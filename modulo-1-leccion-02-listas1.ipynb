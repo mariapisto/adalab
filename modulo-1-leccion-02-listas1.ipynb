{
 "cells": [
  {
   "cell_type": "markdown",
   "metadata": {
    "toc": true
   },
   "source": [
    "<h1>Table of Contents<span class=\"tocSkip\"></span></h1>\n",
    "<div class=\"toc\"><ul class=\"toc-item\"><li><span><a href=\"#Definir-una-lista\" data-toc-modified-id=\"Definir-una-lista-1\"><span class=\"toc-item-num\">1&nbsp;&nbsp;</span>Definir una lista</a></span><ul class=\"toc-item\"><li><span><a href=\"#Ejercicios:-definir-listas\" data-toc-modified-id=\"Ejercicios:-definir-listas-1.1\"><span class=\"toc-item-num\">1.1&nbsp;&nbsp;</span>Ejercicios: definir listas</a></span></li><li><span><a href=\"#Propiedades-de-una-lista\" data-toc-modified-id=\"Propiedades-de-una-lista-1.2\"><span class=\"toc-item-num\">1.2&nbsp;&nbsp;</span>Propiedades de una lista</a></span></li><li><span><a href=\"#Ejercicios:-propiedades-de-listas\" data-toc-modified-id=\"Ejercicios:-propiedades-de-listas-1.3\"><span class=\"toc-item-num\">1.3&nbsp;&nbsp;</span>Ejercicios: propiedades de listas</a></span></li></ul></li><li><span><a href=\"#Métodos-para-listas\" data-toc-modified-id=\"Métodos-para-listas-2\"><span class=\"toc-item-num\">2&nbsp;&nbsp;</span>Métodos para listas</a></span><ul class=\"toc-item\"><li><span><a href=\"#.copy()\" data-toc-modified-id=\".copy()-2.1\"><span class=\"toc-item-num\">2.1&nbsp;&nbsp;</span>.copy()</a></span></li><li><span><a href=\"#.clear()\" data-toc-modified-id=\".clear()-2.2\"><span class=\"toc-item-num\">2.2&nbsp;&nbsp;</span>.clear()</a></span></li><li><span><a href=\"#.count()\" data-toc-modified-id=\".count()-2.3\"><span class=\"toc-item-num\">2.3&nbsp;&nbsp;</span>.count()</a></span></li><li><span><a href=\"#.reverse()\" data-toc-modified-id=\".reverse()-2.4\"><span class=\"toc-item-num\">2.4&nbsp;&nbsp;</span>.reverse()</a></span></li><li><span><a href=\"#.sort()\" data-toc-modified-id=\".sort()-2.5\"><span class=\"toc-item-num\">2.5&nbsp;&nbsp;</span>.sort()</a></span></li><li><span><a href=\"#Ejercicios:-métodos-para-listas\" data-toc-modified-id=\"Ejercicios:-métodos-para-listas-2.6\"><span class=\"toc-item-num\">2.6&nbsp;&nbsp;</span>Ejercicios: métodos para listas</a></span></li></ul></li></ul></div>"
   ]
  },
  {
   "cell_type": "markdown",
   "metadata": {},
   "source": [
    "# Definir una lista\n",
    "Principalmente hay dos formas de definir una lista. Si recordamos cómo definiamos una variable, lo hacíamos de la siguiente forma `nombre = contenido`. Para que sea una lista, ¡sólo hay que añadir unos corchetes! Una lista puede, pero no exige, tener más que un valor. "
   ]
  },
  {
   "cell_type": "code",
   "execution_count": 1,
   "metadata": {},
   "outputs": [],
   "source": [
    "lista_de_compra = ['peras']\n",
    "notas_biologia_este_año = [7]"
   ]
  },
  {
   "cell_type": "markdown",
   "metadata": {},
   "source": [
    "Podemos comprobar el tipo de las variables creadas anteriormente usando los métodos `type()` e `isinstance()`. "
   ]
  },
  {
   "cell_type": "code",
   "execution_count": 2,
   "metadata": {},
   "outputs": [
    {
     "name": "stdout",
     "output_type": "stream",
     "text": [
      "<class 'list'>\n",
      "['peras']\n"
     ]
    },
    {
     "data": {
      "text/plain": [
       "True"
      ]
     },
     "execution_count": 2,
     "metadata": {},
     "output_type": "execute_result"
    }
   ],
   "source": [
    "print(type(lista_de_compra))\n",
    "print(lista_de_compra)\n",
    "isinstance(notas_biologia_este_año,list)"
   ]
  },
  {
   "cell_type": "markdown",
   "metadata": {},
   "source": [
    "Suponemos que este año acaba de pasar, y por tanto no hemos tenido hasta ahora ningún examen de biología. Eso no significa que la lista de notas no exista, nos podemos crear una lista vacía a la que le podremos ir añadiendo elementos."
   ]
  },
  {
   "cell_type": "code",
   "execution_count": 3,
   "metadata": {},
   "outputs": [
    {
     "name": "stdout",
     "output_type": "stream",
     "text": [
      "[]\n"
     ]
    }
   ],
   "source": [
    "notas_biologia_este_año = []\n",
    "print(notas_biologia_este_año)"
   ]
  },
  {
   "cell_type": "markdown",
   "metadata": {},
   "source": [
    "Voy guardando mis notas de este año, y me doy cuenta que son muchas variables. Prefiero tenerlas todas a mano en una sola variable, algo que me servirá luego a la hora de calcular promedios, o mirar si me falta alguna nota. Cojo las notas sueltas y las agrupo en una lista:"
   ]
  },
  {
   "cell_type": "code",
   "execution_count": 4,
   "metadata": {},
   "outputs": [
    {
     "name": "stdout",
     "output_type": "stream",
     "text": [
      "[8, 7.5, 4]\n"
     ]
    }
   ],
   "source": [
    "examen_bio_1 = 8\n",
    "examen_bio_2 = 7.5\n",
    "examen_bio_3 = 4\n",
    "\n",
    "notas_biologia_este_año = [examen_bio_1, examen_bio_2, examen_bio_3]\n",
    "print(notas_biologia_este_año)"
   ]
  },
  {
   "cell_type": "markdown",
   "metadata": {},
   "source": [
    "Las notas del año pasado también las tengo guardadas en una lista. ¿Hay una manera de juntar las dos listas? ¡Por supuesto!"
   ]
  },
  {
   "cell_type": "code",
   "execution_count": 5,
   "metadata": {},
   "outputs": [
    {
     "name": "stdout",
     "output_type": "stream",
     "text": [
      "[[8.3, 6.7, 9.0, 7.5, 5.8, 6.8, 9.0, 6.8], [8, 7.5, 4]]\n"
     ]
    }
   ],
   "source": [
    "notas_biologia_primer_año = [8.3, 6.7, 9.0, 7.5, 5.8, 6.8, 9.0, 6.8]\n",
    "notas_biologia = [notas_biologia_primer_año, notas_biologia_este_año]\n",
    "\n",
    "print(notas_biologia)"
   ]
  },
  {
   "cell_type": "markdown",
   "metadata": {},
   "source": [
    "Nota los sitios en que el print demuestra los parentesis `[]`. En realidad la lista contiene sólo dos variables, cada una de tipo lista. Hasta ahora hemos visto listas de sólo números, y listas de sólo listas. Sin embargo, si te fijas bien en la lista `notas_biologia_este_año`, ¿qué tipos contiene? En realidad una lista puede se definida con cualquier tipo de dato (*integer*, *float*, *strings*, listas, diccionarios, etc). Si en este ejemplo he estado un trimestre en estados unidos el segundo año, la lista sería la siguiente:"
   ]
  },
  {
   "cell_type": "code",
   "execution_count": 6,
   "metadata": {},
   "outputs": [
    {
     "name": "stdout",
     "output_type": "stream",
     "text": [
      "[[8.3, 6.7, 9.0, 7.5, 5.8, 6.8, 9.0, 6.8], ['A', 'D', 'B', 6.0, 7.1, 6.8, 8.2, 6.8], [8, 7.5, 4]]\n"
     ]
    }
   ],
   "source": [
    "notas_biologia_segundo_año = ['A', 'D', 'B', 6.0, 7.1, 6.8, 8.2, 6.8]\n",
    "notas_biologia = [notas_biologia_primer_año, notas_biologia_segundo_año, notas_biologia_este_año]\n",
    "\n",
    "print(notas_biologia)"
   ]
  },
  {
   "cell_type": "markdown",
   "metadata": {},
   "source": [
    "Ahora bien, si no nos interesa saber en qué año saqué qué notas, sino sólo el conjunto de todas las notas hasta ahora, la manera de juntar las listas es con `+`. El resultado es una lista de 19 números, en vez de una lista de tres listas:"
   ]
  },
  {
   "cell_type": "code",
   "execution_count": 7,
   "metadata": {},
   "outputs": [
    {
     "name": "stdout",
     "output_type": "stream",
     "text": [
      "[8.3, 6.7, 9.0, 7.5, 5.8, 6.8, 9.0, 6.8, 'A', 'D', 'B', 6.0, 7.1, 6.8, 8.2, 6.8, 8, 7.5, 4]\n"
     ]
    }
   ],
   "source": [
    "print(notas_biologia_primer_año + notas_biologia_segundo_año + notas_biologia_este_año)"
   ]
  },
  {
   "cell_type": "markdown",
   "metadata": {},
   "source": [
    "Una lista es un tipo de contenedor, como vamos a ver unos cuantos más en las próximas clases. Si tuvieras otro contenedor y lo quisieras pasar a una lista, el comando sería `list(contenedor)`. Hasta ahora no hemos visto otros tipos de contenedores, pero en realidad esto funciona con todo que sea *iterable*, y las cadenas de texto también nos sirven como son un tipo de contenedor para unos caracteres. Así que ya podemos usar la función `list()` sin adelantarnos:"
   ]
  },
  {
   "cell_type": "code",
   "execution_count": 8,
   "metadata": {},
   "outputs": [
    {
     "data": {
      "text/plain": [
       "['L', 'o', 'v', 'e', 'l', 'a', 'c', 'e']"
      ]
     },
     "execution_count": 8,
     "metadata": {},
     "output_type": "execute_result"
    }
   ],
   "source": [
    "apellido = 'Lovelace'\n",
    "list(apellido)"
   ]
  },
  {
   "cell_type": "markdown",
   "metadata": {},
   "source": [
    "📌 ¡Pero ojo! **No** nos ha creado una lista con un único elemento con el *string*. Nos ha creado una lista donde tenemos 8 elemntos, donde cada uno de ellos es una letra de nuestro *string*"
   ]
  },
  {
   "cell_type": "markdown",
   "metadata": {},
   "source": [
    "Pero recordemos, si volvemos a mostrar apellido, ¿qué pasará?"
   ]
  },
  {
   "cell_type": "code",
   "execution_count": 9,
   "metadata": {},
   "outputs": [
    {
     "data": {
      "text/plain": [
       "'Lovelace'"
      ]
     },
     "execution_count": 9,
     "metadata": {},
     "output_type": "execute_result"
    }
   ],
   "source": [
    "apellido"
   ]
  },
  {
   "cell_type": "markdown",
   "metadata": {},
   "source": [
    "Sigue siendo un *string*, recordad que para que se nos guarde como lista tendremos que crearnos otra variable o sobreescribir la que ya tenemos. "
   ]
  },
  {
   "cell_type": "code",
   "execution_count": 10,
   "metadata": {},
   "outputs": [],
   "source": [
    "apellido2 = list(apellido)"
   ]
  },
  {
   "cell_type": "code",
   "execution_count": 11,
   "metadata": {},
   "outputs": [
    {
     "data": {
      "text/plain": [
       "['L', 'o', 'v', 'e', 'l', 'a', 'c', 'e']"
      ]
     },
     "execution_count": 11,
     "metadata": {},
     "output_type": "execute_result"
    }
   ],
   "source": [
    "apellido2"
   ]
  },
  {
   "cell_type": "markdown",
   "metadata": {
    "id": "_Qv3Rnw8OWAv"
   },
   "source": [
    "**Repaso**:\n",
    "- Definir listas con `[]`.\n",
    "\n",
    "- Transformar cualquier tipo de dato o estructura a una lista con `list(iterable)`.\n",
    "\n",
    "- Juntar listas con `+`.\n",
    "\n",
    "- Listas pueden ser creadas vacías, o tener contenido de un sólo tipo, o de múltiples tipos.\n",
    "\n",
    "- Una lista también puede estar compuesta por otras listas.\n"
   ]
  },
  {
   "cell_type": "markdown",
   "metadata": {
    "id": "5PcBreuKcX1-"
   },
   "source": [
    "\n",
    "\n",
    "---\n",
    "\n",
    "\n",
    "## Ejercicios: definir listas\n",
    "\n",
    "- Definir listas\n",
    "\n",
    "  1. Haz una lista `colores` de los primeros 6 colores que te vienen a la mente.\n",
    "\n",
    "  2. Haz una lista `buses` de las líneas de autobuses que pasan por tu casa.\n",
    "\n",
    "  3. Apunta la previsión de temperaturas máximas para todos los días de esta semana en `temperaturas`.\n",
    "\n",
    "- Convertir a listas\n",
    "\n",
    "  4. Convierte tu(s) nombre(s) a una lista `nombres` de caracteres.\n",
    "  \n",
    "  5. Convierte tu(s) apellido(s) a una lista `apellidos` de caracteres.\n",
    "\n",
    "\n",
    "---\n",
    "\n"
   ]
  },
  {
   "cell_type": "code",
   "execution_count": null,
   "metadata": {
    "id": "Z5I4yJpqcX2F"
   },
   "outputs": [],
   "source": []
  },
  {
   "cell_type": "markdown",
   "metadata": {
    "id": "aCLnA8lRcX2F"
   },
   "source": [
    "\n",
    "\n",
    "---\n"
   ]
  },
  {
   "cell_type": "markdown",
   "metadata": {},
   "source": [
    "## Propiedades de una lista\n",
    "Una vez definida, no siempre nos interesan los contenidos de la lista en sí, si no propiedades globales de la lista entera. ¿Cuántos exámenes hay en un año? Y ¿cuántas notas tengo apuntadas en mi lista? Para comprobar la longitud , es decir el número de elementos que tenemos en la lista, vamos a usar la función `len()`. \n",
    "\n",
    "Entonces, ¿cuántas notas tengo apuntadas?"
   ]
  },
  {
   "cell_type": "code",
   "execution_count": 12,
   "metadata": {},
   "outputs": [
    {
     "name": "stdout",
     "output_type": "stream",
     "text": [
      "8\n"
     ]
    }
   ],
   "source": [
    "cantidad_de_notas = len(notas_biologia_primer_año)\n",
    "print(cantidad_de_notas)"
   ]
  },
  {
   "cell_type": "markdown",
   "metadata": {},
   "source": [
    "¿En el primer año era buena estudiante? Pues ni me acuerdo, pero puedo sacar la nota mínima que obtuve con la función `min()`. Del mismo estilo, ¿qué crees que hará la función `max()`?"
   ]
  },
  {
   "cell_type": "code",
   "execution_count": 13,
   "metadata": {},
   "outputs": [
    {
     "name": "stdout",
     "output_type": "stream",
     "text": [
      "5.8 9.0\n"
     ]
    }
   ],
   "source": [
    "minima = min(notas_biologia_primer_año)\n",
    "maxima = max(notas_biologia_primer_año)\n",
    "print(minima, maxima)"
   ]
  },
  {
   "cell_type": "markdown",
   "metadata": {},
   "source": [
    "¿Recordais cuando en la lección anterior hablabamos de que algunos métodos no son universales y que no nos valían para todos los tipos de datos? Nos pasaba cuando intentabamos usar el método `.upper()` que es de *strings* a variables de tipo numérico. \n",
    "\n",
    "Lo mismo nos va a pasar con las listas y los elementos contenidos en ellas. Veamos un ejemplo: "
   ]
  },
  {
   "cell_type": "code",
   "execution_count": 17,
   "metadata": {},
   "outputs": [
    {
     "data": {
      "text/plain": [
       "['A', 'D', 'B', 6.0, 7.1, 6.8, 8.2, 6.8]"
      ]
     },
     "execution_count": 17,
     "metadata": {},
     "output_type": "execute_result"
    }
   ],
   "source": [
    "# recordemos como era la lista notas_biologia_segundo_año\n",
    "notas_biologia_segundo_año"
   ]
  },
  {
   "cell_type": "code",
   "execution_count": 18,
   "metadata": {},
   "outputs": [
    {
     "data": {
      "text/plain": [
       "['A', 'D', 'B', 6.0, 7.1, 6.8, 8.2, 6.8]"
      ]
     },
     "execution_count": 18,
     "metadata": {},
     "output_type": "execute_result"
    }
   ],
   "source": [
    "# y la variable notas_biologia_segundo_año\n",
    "notas_biologia_segundo_año"
   ]
  },
  {
   "cell_type": "markdown",
   "metadata": {},
   "source": [
    "¿Creeis que podremos hacer la operación de `.max()` sobre un *string* ? Provemoslo"
   ]
  },
  {
   "cell_type": "code",
   "execution_count": 19,
   "metadata": {},
   "outputs": [
    {
     "ename": "TypeError",
     "evalue": "'<' not supported between instances of 'float' and 'str'",
     "output_type": "error",
     "traceback": [
      "\u001b[1;31m---------------------------------------------------------------------------\u001b[0m",
      "\u001b[1;31mTypeError\u001b[0m                                 Traceback (most recent call last)",
      "\u001b[1;32mc:\\Users\\agarc\\Documents\\Adalab\\materiales-da-promo-b\\modulo-1\\modulo-1-python-basico\\assets\\notebooks\\modulo-1-leccion-02-listas1.ipynb Cell 36'\u001b[0m in \u001b[0;36m<module>\u001b[1;34m\u001b[0m\n\u001b[1;32m----> <a href='vscode-notebook-cell:/c%3A/Users/agarc/Documents/Adalab/materiales-da-promo-b/modulo-1/modulo-1-python-basico/assets/notebooks/modulo-1-leccion-02-listas1.ipynb#ch0000026?line=0'>1</a>\u001b[0m \u001b[39mmin\u001b[39;49m(notas_biologia_segundo_año)\n",
      "\u001b[1;31mTypeError\u001b[0m: '<' not supported between instances of 'float' and 'str'"
     ]
    }
   ],
   "source": [
    "min(notas_biologia_segundo_año)\n"
   ]
  },
  {
   "cell_type": "markdown",
   "metadata": {},
   "source": [
    "Ups... Nos da error!! Veamos que nos está diciendo el error, `TypeError: '<' not supported between instances of 'float' and 'str'`, es decir, nos esta diciendo que no podemos usar el operador `<` entre *integers*  y *floats*. \n",
    "\n",
    "Por lo tanto, si tenemos una lista con elementos de distintos tipos no podremos usar este tipo de métodos. \n",
    "\n",
    "Pero...🤔, ¿creeis que podremos usar este tipo de método a una lista solo de *strings*?"
   ]
  },
  {
   "cell_type": "code",
   "execution_count": 20,
   "metadata": {},
   "outputs": [],
   "source": [
    "mi_lista = [\"Hola\", \"Adalaber\"]"
   ]
  },
  {
   "cell_type": "code",
   "execution_count": 21,
   "metadata": {},
   "outputs": [
    {
     "data": {
      "text/plain": [
       "'Adalaber'"
      ]
     },
     "execution_count": 21,
     "metadata": {},
     "output_type": "execute_result"
    }
   ],
   "source": [
    "min(mi_lista)"
   ]
  },
  {
   "cell_type": "code",
   "execution_count": 22,
   "metadata": {},
   "outputs": [
    {
     "data": {
      "text/plain": [
       "'Hola'"
      ]
     },
     "execution_count": 22,
     "metadata": {},
     "output_type": "execute_result"
    }
   ],
   "source": [
    "max(mi_lista)"
   ]
  },
  {
   "cell_type": "markdown",
   "metadata": {},
   "source": [
    "Fijaos que nos lo entiende!!!! ¿Qué está pasando? Basicamente, nos lo \"ordenará\" alfabeticamente. Es por esto, que nuestro `min` es \"Adalaber\" ya que empieza por A y está antes en el alfabeto que H de \"Hola\""
   ]
  },
  {
   "cell_type": "markdown",
   "metadata": {},
   "source": [
    "Suponemos que en mi instituto se necesita una 6.0 para aprobar un examen. ¿He estado en el borde una vez? Con la palabra `in` puedo verificar si un contenido específico existe en una lista o no. El resultado es un `True` si existe una o múltiples veces, y un `False` si no existe ni una vez."
   ]
  },
  {
   "cell_type": "code",
   "execution_count": 23,
   "metadata": {},
   "outputs": [
    {
     "name": "stdout",
     "output_type": "stream",
     "text": [
      "False\n"
     ]
    }
   ],
   "source": [
    "bool_borde_ano1 = 6.0 in notas_biologia_primer_año\n",
    "print(bool_borde_ano1)"
   ]
  },
  {
   "cell_type": "markdown",
   "metadata": {},
   "source": [
    "Recordad la lista de notas de todos los años, con la definición repetido en el marco de abajo. Sabiendo que saqué un 6.0 en el segundo año, ¿qué crees que darán las siguientes evaluaciones? Compruébalo:"
   ]
  },
  {
   "cell_type": "code",
   "execution_count": 24,
   "metadata": {},
   "outputs": [
    {
     "data": {
      "text/plain": [
       "[8.3, 6.7, 9.0, 7.5, 5.8, 6.8, 9.0, 6.8]"
      ]
     },
     "execution_count": 24,
     "metadata": {},
     "output_type": "execute_result"
    }
   ],
   "source": [
    "notas_biologia_primer_año"
   ]
  },
  {
   "cell_type": "code",
   "execution_count": 25,
   "metadata": {},
   "outputs": [
    {
     "data": {
      "text/plain": [
       "['A', 'D', 'B', 6.0, 7.1, 6.8, 8.2, 6.8]"
      ]
     },
     "execution_count": 25,
     "metadata": {},
     "output_type": "execute_result"
    }
   ],
   "source": [
    "notas_biologia_segundo_año"
   ]
  },
  {
   "cell_type": "code",
   "execution_count": 26,
   "metadata": {},
   "outputs": [
    {
     "data": {
      "text/plain": [
       "[8, 7.5, 4]"
      ]
     },
     "execution_count": 26,
     "metadata": {},
     "output_type": "execute_result"
    }
   ],
   "source": [
    "notas_biologia_este_año"
   ]
  },
  {
   "cell_type": "code",
   "execution_count": 28,
   "metadata": {},
   "outputs": [
    {
     "data": {
      "text/plain": [
       "[[8.3, 6.7, 9.0, 7.5, 5.8, 6.8, 9.0, 6.8],\n",
       " ['A', 'D', 'B', 6.0, 7.1, 6.8, 8.2, 6.8],\n",
       " [8, 7.5, 4]]"
      ]
     },
     "execution_count": 28,
     "metadata": {},
     "output_type": "execute_result"
    }
   ],
   "source": [
    "# juntamos las tres listas, recibiendo una lista de tres listas.\n",
    "\n",
    "notas_biologia = [notas_biologia_primer_año, notas_biologia_segundo_año, notas_biologia_este_año]\n",
    "notas_biologia"
   ]
  },
  {
   "cell_type": "code",
   "execution_count": 30,
   "metadata": {},
   "outputs": [
    {
     "data": {
      "text/plain": [
       "True"
      ]
     },
     "execution_count": 30,
     "metadata": {},
     "output_type": "execute_result"
    }
   ],
   "source": [
    "# está el número 6 en la lista notas_biologia_segundo_año?\n",
    "bool_borde_ano2 = 6 in notas_biologia_segundo_año\n",
    "bool_borde_ano2"
   ]
  },
  {
   "cell_type": "code",
   "execution_count": 31,
   "metadata": {},
   "outputs": [
    {
     "data": {
      "text/plain": [
       "False"
      ]
     },
     "execution_count": 31,
     "metadata": {},
     "output_type": "execute_result"
    }
   ],
   "source": [
    "# esta el número 6 en la lista de listas?\n",
    "bool_borde = 6.0 in notas_biologia\n",
    "bool_borde"
   ]
  },
  {
   "cell_type": "markdown",
   "metadata": {},
   "source": [
    "La palabra `in` compara *elementos*. \n",
    "\n",
    "- ¿Cuáles son los elementos de la lista notas_biologia_segundo_año? **Números**\n",
    "\n",
    "- ¿Cuáles son los elementos de la lista notas_biolofgia? **Listas**\n",
    "\n",
    "\n",
    "\n",
    "Por lo tanto,  comprobará si el `6` está en la lista de números, busca un número entre una serie de números. Sin embargo, en la segunda lista esta comparando un número (6) con listas, por lo tanto, nos devuelve `False`. Ninguno de los elementos es 6 ya que son listas."
   ]
  },
  {
   "cell_type": "markdown",
   "metadata": {},
   "source": [
    "En la misma manera que `in` también existe `not in`, que se usa exactamente igual. ¿Puedes adivinar qué hace?"
   ]
  },
  {
   "cell_type": "markdown",
   "metadata": {
    "id": "_Qv3Rnw8OWAv"
   },
   "source": [
    "**Repaso**:\n",
    "\n",
    "- La función `len()` nos devuelve el número de elementos de nuestra lista.\n",
    "\n",
    "- Si la lista sólo tiene un tipo de dato, las funciones `min()` y `max()` devuelve el valor mínimo y máximo. **NOTA**   En el caso de que tengamos una lista de *strings* tendrá el cuenta el orden alfabético. \n",
    "\n",
    "- Con `in` y `not in` podemos comprobar si un valor definido está contenido en la lista o no.\n"
   ]
  },
  {
   "cell_type": "markdown",
   "metadata": {
    "id": "5PcBreuKcX1-"
   },
   "source": [
    "\n",
    "\n",
    "---\n",
    "\n",
    "\n",
    "## Ejercicios: propiedades de listas\n",
    "\n",
    "- Usar `len()`, `min()`, y `max()`\n",
    "\n",
    "  6. ¿Cuántos búses pasan por tu casa?\n",
    "\n",
    "  7. ¿Cuántos caracteres hay en tu apellido(s) (inluyendo los espacios)?\n",
    "\n",
    "  8. ¿Qué son las temperaturas máximas en el mejor (`t_max`) y peor (`t_min`) día para esta semana?\n",
    "\n",
    "- Usar `in`, `not in`\n",
    "\n",
    "  9. Hay una 'e' en tu nombre?\n",
    "\n",
    "  10. Tienes el color 'rosa' en la lista de colores?\n",
    "  \n",
    "  11. Puedo escribir tu nombre *sin* usar una 'x'? (`not in`)\n",
    "\n",
    "\n",
    "---\n",
    "\n"
   ]
  },
  {
   "cell_type": "code",
   "execution_count": null,
   "metadata": {
    "id": "Z5I4yJpqcX2F"
   },
   "outputs": [],
   "source": []
  },
  {
   "cell_type": "markdown",
   "metadata": {
    "id": "aCLnA8lRcX2F"
   },
   "source": [
    "\n",
    "\n",
    "---\n"
   ]
  },
  {
   "cell_type": "markdown",
   "metadata": {},
   "source": [
    "# Métodos para listas\n",
    "Listas son mutables, es decir se le pueden añadir o quitar elementos."
   ]
  },
  {
   "cell_type": "code",
   "execution_count": 34,
   "metadata": {},
   "outputs": [
    {
     "name": "stdout",
     "output_type": "stream",
     "text": [
      "[8.3, 6.7, 9.0, 7.5, 5.8, 6.8, 9.0, 6.8, 'A', 'D', 'B', 6.0, 7.1, 6.8, 8.2, 6.8, 8, 7.5, 4]\n"
     ]
    }
   ],
   "source": [
    "# definimos la lista de notas\n",
    "notas = notas_biologia_primer_año + notas_biologia_segundo_año + notas_biologia_este_año\n",
    "print(notas)"
   ]
  },
  {
   "cell_type": "markdown",
   "metadata": {},
   "source": [
    "## .copy()"
   ]
  },
  {
   "cell_type": "code",
   "execution_count": 36,
   "metadata": {},
   "outputs": [
    {
     "name": "stdout",
     "output_type": "stream",
     "text": [
      "[8.3, 6.7, 9.0, 7.5, 5.8, 6.8, 9.0, 6.8, 'A', 'D', 'B', 6.0, 7.1, 6.8, 8.2, 6.8, 8, 7.5, 4]\n"
     ]
    }
   ],
   "source": [
    "# nos podemos hacer una copia de la lista de notas usando el método copy()\n",
    "\n",
    "bio = notas.copy()\n",
    "print(bio)"
   ]
  },
  {
   "cell_type": "markdown",
   "metadata": {},
   "source": [
    "Si nos fijamos tenemos una copia exacta de la lista `notas`, pero en este caso la llamamos `bio`"
   ]
  },
  {
   "cell_type": "markdown",
   "metadata": {},
   "source": [
    "## .clear()"
   ]
  },
  {
   "cell_type": "code",
   "execution_count": 40,
   "metadata": {},
   "outputs": [],
   "source": [
    "# también podemos vacíar una lista usando el método clear()\n",
    "\n",
    "notas.clear()\n"
   ]
  },
  {
   "cell_type": "code",
   "execution_count": 41,
   "metadata": {},
   "outputs": [
    {
     "name": "stdout",
     "output_type": "stream",
     "text": [
      "[]\n"
     ]
    }
   ],
   "source": [
    "print(notas)"
   ]
  },
  {
   "cell_type": "markdown",
   "metadata": {},
   "source": [
    "Si nos fijamos, en el caso del método `clear()` no hace falta que hagamos una reasignación de la lista. Python directamente nos va a borrar todo el contenido de la lista. Es decir, a partir de este momento la lista `notas` esta vacía. "
   ]
  },
  {
   "cell_type": "markdown",
   "metadata": {},
   "source": [
    "Si sabemos que el valor `6.8` existe en la lista, por ejemplo por haber usado `in`, nos podría interesar si hay mútliples instantes en esta lista con ese valor. Para contar los instantes se puede llamar al método `.count()`, con el contenido que buscamos entre los parentesis."
   ]
  },
  {
   "cell_type": "code",
   "execution_count": 43,
   "metadata": {},
   "outputs": [
    {
     "name": "stdout",
     "output_type": "stream",
     "text": [
      "[8.3, 6.7, 9.0, 7.5, 5.8, 6.8, 9.0, 6.8, 'A', 'D', 'B', 6.0, 7.1, 6.8, 8.2, 6.8, 8, 7.5, 4]\n"
     ]
    }
   ],
   "source": [
    "# volvemos a definir la lista de notas\n",
    "notas = notas_biologia_primer_año + notas_biologia_segundo_año + notas_biologia_este_año\n",
    "print(notas)"
   ]
  },
  {
   "cell_type": "markdown",
   "metadata": {},
   "source": [
    "## .count()"
   ]
  },
  {
   "cell_type": "markdown",
   "metadata": {},
   "source": [
    "Otro método muy útil en listas es el método `count()`. Este método nos devuelve el número de elementos que hay de nuestra lista del elemento especificado. "
   ]
  },
  {
   "cell_type": "code",
   "execution_count": 47,
   "metadata": {},
   "outputs": [
    {
     "name": "stdout",
     "output_type": "stream",
     "text": [
      "[8.3, 6.7, 9.0, 7.5, 5.8, 6.8, 9.0, 6.8, 'A', 'D', 'B', 6.0, 7.1, 6.8, 8.2, 6.8, 8, 7.5, 4]\n"
     ]
    }
   ],
   "source": [
    "# recordemos que tenemos en notas\n",
    "\n",
    "print(notas)"
   ]
  },
  {
   "cell_type": "code",
   "execution_count": 45,
   "metadata": {},
   "outputs": [
    {
     "name": "stdout",
     "output_type": "stream",
     "text": [
      "4\n"
     ]
    }
   ],
   "source": [
    "print(notas.count(6.8))"
   ]
  },
  {
   "cell_type": "markdown",
   "metadata": {},
   "source": [
    "Lo que nos esta diciendo este `output` es que en nuestra lista hay 4 elementos con el valor 6.8. "
   ]
  },
  {
   "cell_type": "code",
   "execution_count": null,
   "metadata": {},
   "outputs": [],
   "source": [
    "biologia = notas_biologia_primer_año.copy()\n",
    "print(notas_biologia_primer_año)\n",
    "print(biologia)"
   ]
  },
  {
   "cell_type": "markdown",
   "metadata": {},
   "source": [
    "## .reverse()"
   ]
  },
  {
   "cell_type": "markdown",
   "metadata": {},
   "source": [
    "Las notas que saqué ese año me las apunté sobre la marcha, y por lo tanto, la primera que saqué está en la primera posición de la lista. Si ahora me interesaría verlas de más reciente a más antigua, ¿cómo lo hago? Pues con el método `.reverse()`. "
   ]
  },
  {
   "cell_type": "code",
   "execution_count": 66,
   "metadata": {},
   "outputs": [
    {
     "data": {
      "text/plain": [
       "[8.3, 6.7, 9.0, 7.5, 5.8, 6.8, 9.0, 6.8]"
      ]
     },
     "execution_count": 66,
     "metadata": {},
     "output_type": "execute_result"
    }
   ],
   "source": [
    "# hagamonos una copia de la lista notas_biologia_año\n",
    "biologia = notas_biologia_primer_año.copy()\n",
    "biologia"
   ]
  },
  {
   "cell_type": "code",
   "execution_count": 67,
   "metadata": {},
   "outputs": [],
   "source": [
    "# apliquemos el método reverse, que no nos devolverá nada\n",
    "biologia.reverse()"
   ]
  },
  {
   "cell_type": "code",
   "execution_count": 69,
   "metadata": {},
   "outputs": [
    {
     "data": {
      "text/plain": [
       "[6.8, 9.0, 6.8, 5.8, 7.5, 9.0, 6.7, 8.3]"
      ]
     },
     "execution_count": 69,
     "metadata": {},
     "output_type": "execute_result"
    }
   ],
   "source": [
    "# veamos que tenemos ahora en biologia\n",
    "biologia"
   ]
  },
  {
   "cell_type": "markdown",
   "metadata": {},
   "source": [
    "Y voilá! tenemos nuestra lista dada la vuelta. "
   ]
  },
  {
   "cell_type": "markdown",
   "metadata": {},
   "source": [
    "## .sort()"
   ]
  },
  {
   "cell_type": "markdown",
   "metadata": {},
   "source": [
    "Si en vez de la antigüedad me interesa la lista ordenada, de mayor a menor, ¿también habrá un método que me lo haga? ¡Claro que sí! Es el método `.sort()` que nos ordenará los elementos en orden ascendente por defecto. "
   ]
  },
  {
   "cell_type": "code",
   "execution_count": 70,
   "metadata": {},
   "outputs": [
    {
     "data": {
      "text/plain": [
       "[8.3, 6.7, 9.0, 7.5, 5.8, 6.8, 9.0, 6.8]"
      ]
     },
     "execution_count": 70,
     "metadata": {},
     "output_type": "execute_result"
    }
   ],
   "source": [
    "# recordamos como era notas_biologia_primer_año\n",
    "notas_biologia_primer_año"
   ]
  },
  {
   "cell_type": "code",
   "execution_count": 71,
   "metadata": {},
   "outputs": [
    {
     "data": {
      "text/plain": [
       "[8.3, 6.7, 9.0, 7.5, 5.8, 6.8, 9.0, 6.8]"
      ]
     },
     "execution_count": 71,
     "metadata": {},
     "output_type": "execute_result"
    }
   ],
   "source": [
    "# nos hacemos una copia de la lista anterior usando el método copy()\n",
    "ordenada = notas_biologia_primer_año.copy()\n",
    "ordenada"
   ]
  },
  {
   "cell_type": "code",
   "execution_count": 73,
   "metadata": {},
   "outputs": [
    {
     "data": {
      "text/plain": [
       "[5.8, 6.7, 6.8, 6.8, 7.5, 8.3, 9.0, 9.0]"
      ]
     },
     "execution_count": 73,
     "metadata": {},
     "output_type": "execute_result"
    }
   ],
   "source": [
    "ordenada.sort()\n",
    "ordenada"
   ]
  },
  {
   "cell_type": "markdown",
   "metadata": {},
   "source": [
    "Si nos fijamos se nos ha ordenado la lista de menor a mayor, en orden ascendente. ¿Pero que pasaría si quisieramos hacerlo en orden descendente? Este método tiene un parámetro que se llama `reverse`. Veamos como funciona: "
   ]
  },
  {
   "cell_type": "code",
   "execution_count": 78,
   "metadata": {},
   "outputs": [
    {
     "data": {
      "text/plain": [
       "[8.3, 6.7, 9.0, 7.5, 5.8, 6.8, 9.0, 6.8]"
      ]
     },
     "execution_count": 78,
     "metadata": {},
     "output_type": "execute_result"
    }
   ],
   "source": [
    "# nos hacemos una copia de nuevo de la lista notas_biologia_primer_año\n",
    "ordenada2 = notas_biologia_primer_año.copy()\n",
    "ordenada2"
   ]
  },
  {
   "cell_type": "code",
   "execution_count": 79,
   "metadata": {},
   "outputs": [
    {
     "data": {
      "text/plain": [
       "[9.0, 9.0, 8.3, 7.5, 6.8, 6.8, 6.7, 5.8]"
      ]
     },
     "execution_count": 79,
     "metadata": {},
     "output_type": "execute_result"
    }
   ],
   "source": [
    "ordenada2.sort(reverse=True)\n",
    "ordenada2"
   ]
  },
  {
   "cell_type": "markdown",
   "metadata": {},
   "source": [
    "Lo que ha pasado ahora después de pasarle el parámetro `reverse()` es que se nos ordeno de mayor a menor. "
   ]
  },
  {
   "cell_type": "markdown",
   "metadata": {
    "id": "_Qv3Rnw8OWAv"
   },
   "source": [
    "**Repaso**:\n",
    "- Listas son mutables, es decir, podemos eliminar o añadir elementos. \n",
    "\n",
    "- Para guardar el original, `.copy()` nos hace una copia del contenido en una nueva variable.\n",
    "\n",
    "- Con `.clear()` vaciamos nuestra lista de todos los elementos contenidos.\n",
    "\n",
    "- Con `.count(x)` puedes contar cuántas veces está el contenido `x` en la lista.\n",
    "\n",
    "- Con `.reverse()` y `.sort()` cambias el orden de la lista.\n"
   ]
  },
  {
   "cell_type": "markdown",
   "metadata": {
    "id": "5PcBreuKcX1-"
   },
   "source": [
    "\n",
    "\n",
    "---\n",
    "\n",
    "\n",
    "## Ejercicios: métodos para listas\n",
    "\n",
    "- Hacer copias y borrar sus contenidos\n",
    "\n",
    "  12. Copia el contenido de `temperaturas` a `temperaturas2`, y `temperaturas3`.\n",
    "\n",
    "  13. Vacía el contenido de la variable `temperaturas2`\n",
    "\n",
    "  14. Imprime el contenido de `temperaturas` y `temperaturas2`.\n",
    "\n",
    "  15. Copia el contenido de `nombres` a `nombres2`.\n",
    "\n",
    "  16. Copia el contenido de `apellidos` a `apellidos2`.\n",
    "\n",
    "- Cambiar el orden de los contenidos\n",
    "\n",
    "  17. Haz que `temperatuas3` ordena las temperaturas de esta semana en orden anticronológico.\n",
    "\n",
    "  18. Ordena los caracteres de tus nombres y tus apellidos en las listas `nombres2` y `apellidos2`. Imprime el resultado y investiga: ¿qué orden ha cogido? ¿Cómo trata las mayúsculas?\n",
    "\n",
    "- Contar duplicados\n",
    "\n",
    "  19. ¿Cuántas 'a' tiene tu nombre? ¿Y cuántas 'o'?\n",
    "\n",
    "  20. Verifica si los resultados de ejercicio 19 son iguales para la lista `nombres2`.\n",
    "\n",
    "  21. ¿Cuántas veces esta semana llega la temperatura a `t_max`? ¿Y cuántas a `t_min`?\n",
    "\n",
    "- Bonus\n",
    "\n",
    "  22. Imprime esta frase, pero con los datos tuyos metido *como variables* en los cuatro sitios en que ves un número: 'La temperatura máxima esta semana será 14 ºC, que ocurrirá en 1 días(s). El día más friolero tendrá una temperatura máxima de 10 ºC, que ocurrirá en 2 día(s).'\n",
    "---\n",
    "\n"
   ]
  },
  {
   "cell_type": "code",
   "execution_count": null,
   "metadata": {
    "id": "Z5I4yJpqcX2F"
   },
   "outputs": [],
   "source": []
  },
  {
   "cell_type": "markdown",
   "metadata": {
    "id": "ntgVqLZhcIBJ"
   },
   "source": [
    "\n",
    "\n",
    "---\n",
    "\n"
   ]
  }
 ],
 "metadata": {
  "kernelspec": {
   "display_name": "Python 3.9.7 ('base')",
   "language": "python",
   "name": "python3"
  },
  "language_info": {
   "codemirror_mode": {
    "name": "ipython",
    "version": 3
   },
   "file_extension": ".py",
   "mimetype": "text/x-python",
   "name": "python",
   "nbconvert_exporter": "python",
   "pygments_lexer": "ipython3",
   "version": "3.9.7"
  },
  "toc": {
   "base_numbering": 1,
   "nav_menu": {},
   "number_sections": true,
   "sideBar": true,
   "skip_h1_title": false,
   "title_cell": "Table of Contents",
   "title_sidebar": "Contents",
   "toc_cell": true,
   "toc_position": {},
   "toc_section_display": true,
   "toc_window_display": true
  },
  "vscode": {
   "interpreter": {
    "hash": "8e1f904fe714ccd05b7907fe541d28c2ec20b612a1af6f34d013e1f0fd7aabf1"
   }
  }
 },
 "nbformat": 4,
 "nbformat_minor": 2
}

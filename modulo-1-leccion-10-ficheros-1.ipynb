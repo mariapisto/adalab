{
 "cells": [
  {
   "cell_type": "markdown",
   "metadata": {},
   "source": [
    "# Rutas relativas y absolutas"
   ]
  },
  {
   "cell_type": "code",
   "execution_count": 1,
   "metadata": {},
   "outputs": [],
   "source": [
    "# vamos a volver a importar la librería os al completo, ya que a lo largo de la lección usaremos varías funciones de esta librería. \n",
    "import os"
   ]
  },
  {
   "cell_type": "code",
   "execution_count": 2,
   "metadata": {},
   "outputs": [
    {
     "data": {
      "text/plain": [
       "'/home/cachito/Adalab/adalab.python'"
      ]
     },
     "execution_count": 2,
     "metadata": {},
     "output_type": "execute_result"
    }
   ],
   "source": [
    "# veamos cuál es la ruta de la carpeta donde estamos trabajando\n",
    "\n",
    "os.getcwd()"
   ]
  },
  {
   "cell_type": "markdown",
   "metadata": {},
   "source": [
    "El resultado de tu carpeta actual, ha sido un string muy largo, ¿verdad?. Es la `ruta absoluta`, empezando con la unidad de disco, `C:`, `D:`, o parecido, y todas las carpetas madre de la carpeta actual ( es decir, todas los pasitos que tenemos que seguir hasta llegar al fichero en el que estamos trabajando). Esta ruta nos puede resultar muy útil para ubicar algo desde cualquier otra carpeta. La desventaja es que al mover el código a otro dispositivo, es poco probable que esas ruta siga siendo al misma y podemos encontrarnos con problemas. \n",
    "\n",
    "Para evitar estos problemas, lo ideal es trabajar con rutas relativas. En este tipo de rutas definimos la carpeta actual con un punto `.` por lo que `./subcarpeta` se refiere a una subcarpeta de la carpeta actual. Igualmente `..` se refiere a la carpeta en que se encuentra la carpeta actual. Veamos algunos ejemplos para entender esto mejor, pero como apoyo podemos pensar en como nos movemos por las carpetas desde la terminal. Recordemos que en la terminal, cuando hacemos `cd ..` lo que hacemos es irnos una carpeta para atrás, lo mismo pasará en las rutas relativas en Python. "
   ]
  },
  {
   "cell_type": "markdown",
   "metadata": {},
   "source": [
    "Ahora mismo estamos en la carpeta notebooks como hemos visto en la celda anterior, imaginemos ahora que nos queremos mover a la carpeta de `assets` usaremos entonces \n",
    "\n",
    "`../`"
   ]
  },
  {
   "cell_type": "markdown",
   "metadata": {},
   "source": [
    "En caso de que nos queramos ir dos carpetas para atrás usaremos: \n",
    "\n",
    "`../../`\n",
    "\n",
    "Es decir, cada vez que ponemos `..`, nos estamos yendo una carpeta para atrás desde la carpeta donde estamos ubicados. "
   ]
  },
  {
   "cell_type": "markdown",
   "metadata": {},
   "source": [
    "📌 Si estás en un equipo Windows puede que las rutas te hayan salido con `\\\\` en vez de `/` para separar las carpetas. Windows usa el carácter `\\` para sus rutas, que se interpreta mal si se usa en un string. `\\t` es un `tab` por ejemplo, y `\\n` es una línea nueva. Para evitar que se interprete mal, la ruta se demuestra con dobles slash `\\\\`. En las versiones recientes de Windows, sin embargo, se aceptan las rutas con `/` también. Una ruta con `/` te va a funcionar en todo tipo de dispositivos entonces, mientras las rutas con `\\` están limitadas a sólo Windows."
   ]
  },
  {
   "cell_type": "markdown",
   "metadata": {},
   "source": [
    "**Repaso**\n",
    "- Las rutas absolutas empiezan con la unidad de disco, como `C:/`. Rutas absolutas no funcionan en otros dispositivos.\n",
    "\n",
    "- Las rutas relativas empiezan en la carpeta actual `./` y para salir a la carpeta madre usamos `../`.\n",
    "\n",
    "- Windows demostrará las rutas con `\\\\` en vez de `/`. Son iguales pero `/` te valdrá en todos los sistemas operativos."
   ]
  },
  {
   "cell_type": "markdown",
   "metadata": {},
   "source": [
    "# Módulos o librerías\n",
    "\n",
    "Los módulos (también llamadas librerías) en Python son como paquetes de funciones que vamos a usar comunmente en Python. Para trabajar con ficheros y directorios vamos a necesitar importar unos módulos. Un buen punto de partida si queréis aprender sobre módulos es la [documentación oficial](https://docs.python.org/3/tutorial/modules.html), aunque aquí también os vamos a contar las cosas esenciales de ellos. \n",
    "\n",
    "\n",
    "Un archivo con múltiples funciones, guardado con la extensión `.py` es un módulo, y por defecto Python ya tiene algunos cargados. Las funciones que usamos hasta ahora (`print()`, `zip()`, `len()`, `range()`, `int()`, etc.) no pertenecían a un módulo externo. Para otras funciones que vamos a necesitar para las clases a partir de ahora sí que hace falta *importar* los módulos adecuados para poder usar las funciones de dentro. El primer módulo que vamos a necesitar en la clase de hoy es `os`, y lo usamos como ejemplo para las formas de importar un módulo."
   ]
  },
  {
   "cell_type": "code",
   "execution_count": 5,
   "metadata": {},
   "outputs": [],
   "source": [
    "# para importar un módulo necesitaremos usar la palabra clave \"import\" seguido del módulo que queremos importar\n",
    "import os"
   ]
  },
  {
   "cell_type": "code",
   "execution_count": 6,
   "metadata": {},
   "outputs": [
    {
     "data": {
      "text/plain": [
       "'c:\\\\Users\\\\agarc\\\\Documents\\\\Adalab\\\\materiales-da-promo-b\\\\modulo-1\\\\modulo-1-python-basico\\\\assets\\\\notebooks'"
      ]
     },
     "execution_count": 6,
     "metadata": {},
     "output_type": "execute_result"
    }
   ],
   "source": [
    "# una de las funciones más usadas es \"getcwd\" del inglés \"get current working directory\", el cuál nos va a decir en qué carpeta estamos ejecutando el código. Es como el pwd de la terminal.\n",
    "os.getcwd()"
   ]
  },
  {
   "cell_type": "code",
   "execution_count": 7,
   "metadata": {},
   "outputs": [
    {
     "data": {
      "text/plain": [
       "'c:\\\\Users\\\\agarc\\\\Documents\\\\Adalab\\\\materiales-da-promo-b\\\\modulo-1\\\\modulo-1-python-basico\\\\assets\\\\notebooks'"
      ]
     },
     "execution_count": 7,
     "metadata": {},
     "output_type": "execute_result"
    }
   ],
   "source": [
    "# esta ubicación la podemos almacenar en una variable, la cual podemos usar a lo largo de nuestro jupyter\n",
    "carpetaActual = os.getcwd()\n",
    "carpetaActual"
   ]
  },
  {
   "cell_type": "markdown",
   "metadata": {},
   "source": [
    "Normalmente dentro de una librería o módulo hay múltiples funciones definidas. Puede ser que solo nos interese una de sus funciones en especifico. Python nos permite cargar o importar solo las que nos interesan de la siguiente forma:"
   ]
  },
  {
   "cell_type": "code",
   "execution_count": 8,
   "metadata": {},
   "outputs": [],
   "source": [
    "from os import getcwd"
   ]
  },
  {
   "cell_type": "code",
   "execution_count": 9,
   "metadata": {},
   "outputs": [
    {
     "data": {
      "text/plain": [
       "'c:\\\\Users\\\\agarc\\\\Documents\\\\Adalab\\\\materiales-da-promo-b\\\\modulo-1\\\\modulo-1-python-basico\\\\assets\\\\notebooks'"
      ]
     },
     "execution_count": 9,
     "metadata": {},
     "output_type": "execute_result"
    }
   ],
   "source": [
    "# 📌 fijaos como en estos casos, ya no necesitamos especificar \"os.\" como hicimos en el primer ejemplo. \n",
    "getcwd()"
   ]
  },
  {
   "cell_type": "markdown",
   "metadata": {},
   "source": [
    "En el caso anterior solo nos importamos una función, pero podemos importarnos dos o más de la siguiente forma:"
   ]
  },
  {
   "cell_type": "code",
   "execution_count": 10,
   "metadata": {},
   "outputs": [],
   "source": [
    "from os import getcwd, listdir"
   ]
  },
  {
   "cell_type": "code",
   "execution_count": 11,
   "metadata": {},
   "outputs": [
    {
     "data": {
      "text/plain": [
       "'c:\\\\Users\\\\agarc\\\\Documents\\\\Adalab\\\\materiales-da-promo-b\\\\modulo-1\\\\modulo-1-python-basico\\\\assets\\\\notebooks'"
      ]
     },
     "execution_count": 11,
     "metadata": {},
     "output_type": "execute_result"
    }
   ],
   "source": [
    "# de nuevo si os fijaos, no hace falta que pongáis \".os\" delante de la función que queremos usar. \n",
    "getcwd()"
   ]
  },
  {
   "cell_type": "code",
   "execution_count": 12,
   "metadata": {},
   "outputs": [
    {
     "data": {
      "text/plain": [
       "['.ipynb_checkpoints',\n",
       " 'modulo-1-leccion-01-variables.ipynb',\n",
       " 'modulo-1-leccion-02-listas1.ipynb',\n",
       " 'modulo-1-leccion-03-listas2.ipynb',\n",
       " 'modulo-1-leccion-04-diccionarios.ipynb',\n",
       " 'modulo-1-leccion-05-sets.ipynb',\n",
       " 'modulo-1-leccion-05-tuplas.ipynb',\n",
       " 'modulo-1-leccion-06-boolean-statements.ipynb',\n",
       " 'modulo-1-leccion-07-bucles-for-range-comprehensions-I.ipynb',\n",
       " 'modulo-1-leccion-07-bucles-for-range-comprehensions-II.ipynb',\n",
       " 'modulo-1-leccion-08-funciones-1-Intro.ipynb',\n",
       " 'modulo-1-leccion-08-funciones-2-Argumentos.ipynb',\n",
       " 'modulo-1-leccion-09-Clases.ipynb',\n",
       " 'modulo-1-leccion-10-ficheros-1.ipynb',\n",
       " 'modulo-1-leccion-12-expresiones-regulares.ipynb',\n",
       " 'modulo-1-leccion-13-python_sql.ipynb',\n",
       " 'modulo-1-leccion-14-python_sql.ipynb']"
      ]
     },
     "execution_count": 12,
     "metadata": {},
     "output_type": "execute_result"
    }
   ],
   "source": [
    "# otro método interesante es \"listdir\" que nos va a devolver un listado de los archivos que tenemos en la carpeta en la que estamos trabajando. Es como el \"ls\" en la terminal\n",
    "listdir()"
   ]
  },
  {
   "cell_type": "markdown",
   "metadata": {},
   "source": [
    "Algo muy común cuando estamos trabajando en Python importanto librerías es el uso de alias. Estos son palabras clave que vamos a usar para evitar tener que usar el nombre de la librería completa, ya sea porque el nombre es muy largo o por convención. Uno de los casos más comunes lo encontraremos en librerías como pandas o numpy, dos librerías que todavía no hemos visto, pero que veremos en el módulo 2 del bootcamp. En caso de que queramos hacer la importación con alias tendremos que usar la palabra clave `as`. En el caso de estas librerías sus *import*  los encontraremos de la siguiente forma: "
   ]
  },
  {
   "cell_type": "code",
   "execution_count": 13,
   "metadata": {},
   "outputs": [],
   "source": [
    "# en el caso de la librería de pandas, usaremos el alias pd\n",
    "import pandas as pd\n",
    "\n",
    "# en el caso de la librería de numpy, usaremos el alias np\n",
    "import numpy as np"
   ]
  },
  {
   "cell_type": "markdown",
   "metadata": {},
   "source": [
    "De esta forma, evitaremos tener que estar escribiendo pandas todo el rato, en su lugar escribiremos `pd`. Además de que nos ahorra tener que escribir una palabra más larga, ayuda a la comunidad Pythoniana a saber que cuando vemos esas abreviaturas se está trabajando con esas librerías. "
   ]
  },
  {
   "cell_type": "markdown",
   "metadata": {},
   "source": [
    "📌 **NOTA** A la hora de importar las librerías, por convención, todas suelen ir al incio del jupyter, para que la persona que vaya a leer nuestro código sepa desde el minuto 0 que librerías son las que necesitará para desarrollar el proyecto. "
   ]
  },
  {
   "cell_type": "markdown",
   "metadata": {},
   "source": [
    "**Repaso**\n",
    "- Con `import` cargamos un módulo entero, y sus funciones estarán disponible como `modulo.funcion()`.\n",
    "\n",
    "- Con `from modulo import funcion1, funcion2` cargamos sólo funciones específicas."
   ]
  },
  {
   "cell_type": "markdown",
   "metadata": {},
   "source": [
    "---\n",
    "## Ejercicios modulos, rutas relativas y absolutas\n",
    "\n",
    "- Importar un módulo\n",
    "\n",
    "    1. Carga el módulo `datetime`.\n",
    "    2. Carga el módulo `datetime` con el alias (= nombre local) `dt`.\n",
    "\n",
    "- Importar contenidos de un módulo\n",
    "\n",
    "    3. Carga la clase `date` del módulo `datetime`.\n",
    "    4. Carga la clase `date` del módulo `datetime` con el alias `fecha`.\n",
    "\n",
    "- Usar contenidos de un módulo\n",
    "\n",
    "    5. Usa el método `.today()` de la clase `date` del módulo con alias `dt` para la variable `hoy1`. Imprime `hoy1`.\n",
    "    6. Usa el método `.today()` de la con alias `fecha` para la variable `hoy2`. Imprime `hoy2`.\n",
    "\n",
    "---"
   ]
  },
  {
   "cell_type": "code",
   "execution_count": 4,
   "metadata": {},
   "outputs": [],
   "source": [
    "import datetime\n",
    "import datetime as dt"
   ]
  },
  {
   "cell_type": "code",
   "execution_count": 6,
   "metadata": {},
   "outputs": [],
   "source": [
    "from datetime import date\n",
    "from datetime import date as fecha"
   ]
  },
  {
   "cell_type": "code",
   "execution_count": 10,
   "metadata": {},
   "outputs": [
    {
     "data": {
      "text/plain": [
       "datetime.date(2022, 7, 25)"
      ]
     },
     "execution_count": 10,
     "metadata": {},
     "output_type": "execute_result"
    }
   ],
   "source": [
    "hoy2 = fecha.today()\n",
    "hoy2"
   ]
  },
  {
   "cell_type": "code",
   "execution_count": 13,
   "metadata": {},
   "outputs": [
    {
     "data": {
      "text/plain": [
       "datetime.date(2022, 7, 25)"
      ]
     },
     "execution_count": 13,
     "metadata": {},
     "output_type": "execute_result"
    }
   ],
   "source": [
    "hoy1 = dt.date.today()\n",
    "hoy1"
   ]
  },
  {
   "cell_type": "markdown",
   "metadata": {},
   "source": [
    "---"
   ]
  },
  {
   "cell_type": "markdown",
   "metadata": {},
   "source": [
    "## Librería `os`\n",
    "La primera librería que aprendimos a cargar es `os` [aqui](https://docs.python.org/3/library/os.html?highlight=module%20os#module-os) tenéis la documentación oficial. Esta librería nos va a permitir movernos entre carpetas, como podemos hacer con el explorador de archivos en Windows o con el finder en Mac (o incluso con la terminal, ahora que estamos aprendiendo a usarla). Vamos a seguir aprendiendo métodos interesantes de esta librería: "
   ]
  },
  {
   "cell_type": "code",
   "execution_count": 14,
   "metadata": {},
   "outputs": [],
   "source": [
    "# volvemos a cargar la librería completa, ya que a lo largo de este jupyter trabajaremos con distintas funciones\n",
    "import os"
   ]
  },
  {
   "cell_type": "code",
   "execution_count": 15,
   "metadata": {},
   "outputs": [
    {
     "data": {
      "text/plain": [
       "'c:\\\\Users\\\\agarc\\\\Documents\\\\Adalab\\\\materiales-da-promo-b\\\\modulo-1\\\\modulo-1-python-basico\\\\assets\\\\notebooks'"
      ]
     },
     "execution_count": 15,
     "metadata": {},
     "output_type": "execute_result"
    }
   ],
   "source": [
    "# utilizamos el método getcwd para saber cual es nuestra carpeta de trabajo y lo almacenamos en una variable\n",
    "carpeta_jupyter = os.getcwd()\n",
    "carpeta_jupyter"
   ]
  },
  {
   "cell_type": "markdown",
   "metadata": {},
   "source": [
    "### `.listdir()`\n",
    "\n",
    "Como aprendimos un poco más arriba, esta librería tiene el método `.listdir()`, el cuál nos devolvía el contenido de la carpeta donde estamos ubicados, igual que el `ls` de la terminal."
   ]
  },
  {
   "cell_type": "code",
   "execution_count": 16,
   "metadata": {},
   "outputs": [
    {
     "data": {
      "text/plain": [
       "['.ipynb_checkpoints',\n",
       " 'modulo-1-leccion-01-variables.ipynb',\n",
       " 'modulo-1-leccion-02-listas1.ipynb',\n",
       " 'modulo-1-leccion-03-listas2.ipynb',\n",
       " 'modulo-1-leccion-04-diccionarios.ipynb',\n",
       " 'modulo-1-leccion-05-sets.ipynb',\n",
       " 'modulo-1-leccion-05-tuplas.ipynb',\n",
       " 'modulo-1-leccion-06-boolean-statements.ipynb',\n",
       " 'modulo-1-leccion-07-bucles-for-range-comprehensions-I.ipynb',\n",
       " 'modulo-1-leccion-07-bucles-for-range-comprehensions-II.ipynb',\n",
       " 'modulo-1-leccion-08-funciones-1-Intro.ipynb',\n",
       " 'modulo-1-leccion-08-funciones-2-Argumentos.ipynb',\n",
       " 'modulo-1-leccion-09-Clases.ipynb',\n",
       " 'modulo-1-leccion-10-ficheros-1.ipynb',\n",
       " 'modulo-1-leccion-12-expresiones-regulares.ipynb',\n",
       " 'modulo-1-leccion-13-python_sql.ipynb',\n",
       " 'modulo-1-leccion-14-python_sql.ipynb']"
      ]
     },
     "execution_count": 16,
     "metadata": {},
     "output_type": "execute_result"
    }
   ],
   "source": [
    "os.listdir()"
   ]
  },
  {
   "cell_type": "markdown",
   "metadata": {},
   "source": [
    "### `.chdir()` \n",
    "\n",
    "Puede ser que en ocasiones nos interese cambiar la carpeta de trabajo, para eso podemos usar la función `.chdir()`, al cuál le tendremos que pasar la ruta de la carpeta que queremos establecer como carpeta de trabajo. Imaginemos que queremos irnos a nuestro escritorio: "
   ]
  },
  {
   "cell_type": "code",
   "execution_count": 17,
   "metadata": {},
   "outputs": [],
   "source": [
    "# cambiamos la ruta de trabajo a el escritorio. 📌 Siguiendo esta ruta, os dará error, recordad cambiar esta ruta por la que corresponda con vuestros ordenadores en caso de que queráis seguir la clase con vuestras carpetas\n",
    "os.chdir('C:/Users/agarc/Desktop')"
   ]
  },
  {
   "cell_type": "code",
   "execution_count": 18,
   "metadata": {},
   "outputs": [
    {
     "data": {
      "text/plain": [
       "'C:\\\\Users\\\\agarc\\\\Desktop'"
      ]
     },
     "execution_count": 18,
     "metadata": {},
     "output_type": "execute_result"
    }
   ],
   "source": [
    "# ahora, vamos a chequear cuál es ahora nuestra ruta de trabajo\n",
    "os.getcwd()"
   ]
  },
  {
   "cell_type": "code",
   "execution_count": 19,
   "metadata": {},
   "outputs": [
    {
     "data": {
      "text/plain": [
       "['archivo.txt',\n",
       " 'Archivos Brezo',\n",
       " 'autocorrelation-anatomy-python.jpg',\n",
       " 'caramelos.csv',\n",
       " 'data.csv',\n",
       " 'desktop.ini',\n",
       " 'ejercicio.txt',\n",
       " 'ejercicio1.xml',\n",
       " 'esta.txt',\n",
       " 'ficheros2.txt',\n",
       " 'Heart-Disease-Prediction',\n",
       " 'repasos',\n",
       " 'repaso_limpieza.ipynb',\n",
       " 'scrapping.ipynb',\n",
       " 'time-series-estacionario copy.ipynb',\n",
       " 'time-series-estacionario.ipynb']"
      ]
     },
     "execution_count": 19,
     "metadata": {},
     "output_type": "execute_result"
    }
   ],
   "source": [
    "# y que ficheros tenemos ahora en esta carpeta\n",
    "os.listdir()"
   ]
  },
  {
   "cell_type": "markdown",
   "metadata": {},
   "source": [
    "### `.mkdir()` \n",
    "\n",
    "Para crear carpetas tenemos `.mkdir()`, de *make directory*, si os fijais, la función es muy parecida a la que usamos en la terminal. En este caso vamos a crear una carpeta que se llame `Carpeta_os` y vamos a comprobar con la función `.listdir()` si se nos ha creado correctamente esa carpeta. "
   ]
  },
  {
   "cell_type": "code",
   "execution_count": 20,
   "metadata": {},
   "outputs": [],
   "source": [
    "# creamos la carpeta\n",
    "\n",
    "os.mkdir('Carpeta_os')"
   ]
  },
  {
   "cell_type": "code",
   "execution_count": 21,
   "metadata": {},
   "outputs": [
    {
     "data": {
      "text/plain": [
       "['archivo.txt',\n",
       " 'Archivos Brezo',\n",
       " 'autocorrelation-anatomy-python.jpg',\n",
       " 'caramelos.csv',\n",
       " 'Carpeta_os',\n",
       " 'data.csv',\n",
       " 'desktop.ini',\n",
       " 'ejercicio.txt',\n",
       " 'ejercicio1.xml',\n",
       " 'esta.txt',\n",
       " 'ficheros2.txt',\n",
       " 'Heart-Disease-Prediction',\n",
       " 'repasos',\n",
       " 'repaso_limpieza.ipynb',\n",
       " 'scrapping.ipynb',\n",
       " 'time-series-estacionario copy.ipynb',\n",
       " 'time-series-estacionario.ipynb']"
      ]
     },
     "execution_count": 21,
     "metadata": {},
     "output_type": "execute_result"
    }
   ],
   "source": [
    "os.listdir()"
   ]
  },
  {
   "cell_type": "markdown",
   "metadata": {},
   "source": [
    "Si nos fijamos, ahora tenemos un nuevo elemento en la lista que nos devuelve el método `.listdir()`, la carpeta que hemos creado esta ya en esta lista! "
   ]
  },
  {
   "cell_type": "markdown",
   "metadata": {},
   "source": [
    "### `.rename()`\n",
    "\n",
    "A veces, puede que estemos interesados en cambiar el nombre de una carpeta, en este caso vamos a cambiar el nombre de nuestra carpeta nueva a `'testtesttest'`. La sintaxis que seguiremos en esta función es: \n",
    "\n",
    "```python\n",
    "os.rename(\"nombre_nuevo\", \"nombre_antiguo\")\n",
    "```"
   ]
  },
  {
   "cell_type": "code",
   "execution_count": 22,
   "metadata": {},
   "outputs": [],
   "source": [
    "# cambiamos el nombre de la carpeta\n",
    "os.rename('Carpeta_os','testtesttest')\n"
   ]
  },
  {
   "cell_type": "code",
   "execution_count": 23,
   "metadata": {},
   "outputs": [
    {
     "data": {
      "text/plain": [
       "['archivo.txt',\n",
       " 'Archivos Brezo',\n",
       " 'autocorrelation-anatomy-python.jpg',\n",
       " 'caramelos.csv',\n",
       " 'data.csv',\n",
       " 'desktop.ini',\n",
       " 'ejercicio.txt',\n",
       " 'ejercicio1.xml',\n",
       " 'esta.txt',\n",
       " 'ficheros2.txt',\n",
       " 'Heart-Disease-Prediction',\n",
       " 'repasos',\n",
       " 'repaso_limpieza.ipynb',\n",
       " 'scrapping.ipynb',\n",
       " 'testtesttest',\n",
       " 'time-series-estacionario copy.ipynb',\n",
       " 'time-series-estacionario.ipynb']"
      ]
     },
     "execution_count": 23,
     "metadata": {},
     "output_type": "execute_result"
    }
   ],
   "source": [
    "# chequeamos si se ha cambiado el nombre\n",
    "os.listdir()"
   ]
  },
  {
   "cell_type": "markdown",
   "metadata": {},
   "source": [
    "### `.rmdir()` \n",
    "\n",
    "Por último, puede que estemos interesadas en eliminar alguna carpeta, para eso usaremos la función `.rmdir()`. "
   ]
  },
  {
   "cell_type": "code",
   "execution_count": 24,
   "metadata": {},
   "outputs": [],
   "source": [
    "# eliminamos la carpeta que hemos creado\n",
    "os.rmdir('testtesttest')"
   ]
  },
  {
   "cell_type": "code",
   "execution_count": 25,
   "metadata": {},
   "outputs": [
    {
     "data": {
      "text/plain": [
       "['archivo.txt',\n",
       " 'Archivos Brezo',\n",
       " 'autocorrelation-anatomy-python.jpg',\n",
       " 'caramelos.csv',\n",
       " 'data.csv',\n",
       " 'desktop.ini',\n",
       " 'ejercicio.txt',\n",
       " 'ejercicio1.xml',\n",
       " 'esta.txt',\n",
       " 'ficheros2.txt',\n",
       " 'Heart-Disease-Prediction',\n",
       " 'repasos',\n",
       " 'repaso_limpieza.ipynb',\n",
       " 'scrapping.ipynb',\n",
       " 'time-series-estacionario copy.ipynb',\n",
       " 'time-series-estacionario.ipynb']"
      ]
     },
     "execution_count": 25,
     "metadata": {},
     "output_type": "execute_result"
    }
   ],
   "source": [
    "# chequeamos que ha sido correctamente eliminada\n",
    "os.listdir()"
   ]
  },
  {
   "cell_type": "markdown",
   "metadata": {},
   "source": [
    "**Repaso**\n",
    "\n",
    "- Para saber en que ruta absoluta estás usa `os.getcwd()`.\n",
    "\n",
    "- Para cambiar la carpeta en que estés usa `os.chdir()`.\n",
    "\n",
    "- Los contenidos de la carpeta actual son mostradis con `os.listdir()`. Igualmente, los contenidos de la carpeta `'X'` con `os.listdir('X')`.\n",
    "\n",
    "- Crear, renombrar, o eliminar una carpeta  `os.mkdir()`, `os.rename()`, y `os.remove()`.\n"
   ]
  },
  {
   "cell_type": "markdown",
   "metadata": {},
   "source": [
    "## Librería `shutil`\n",
    "\n",
    "La documentación oficial de esta librería la tenéis [aquí]('https://docs.python.org/3/library/shutil.html'). Nos puede resultar útil para los casos en que no sólo quieras borrar una carpeta en sí (`os.remove()`) sino una carpeta con todas sus subcarpetas y archivos a la vez. \n",
    "\n",
    "Su nombre se refiere a *sh*ell *util*ities, en que *shell* es el intérprete de órdenes que te da accesso a los servicios del sistema operativo. \n",
    "\n",
    "Para hacerlo usa el comando `.rmtree()` (= *remove tree*) en que *tree* se refiere al árbol de carpetas y subcarpetas, es decir lo hará de forma recursiva! \n"
   ]
  },
  {
   "cell_type": "code",
   "execution_count": 26,
   "metadata": {},
   "outputs": [],
   "source": [
    "# lo primero que vamos a hacer es cargar la librería, en este caso no lo vamos a cargar todo, solo cargaremos lo que nos interesa\n",
    "\n",
    "from shutil import rmtree"
   ]
  },
  {
   "cell_type": "code",
   "execution_count": 27,
   "metadata": {},
   "outputs": [],
   "source": [
    "# volvemos a crear una carpeta que se llame \"Carpeta_os\"\n",
    "os.mkdir('Carpeta_os')"
   ]
  },
  {
   "cell_type": "code",
   "execution_count": 28,
   "metadata": {},
   "outputs": [],
   "source": [
    "# dentro de esta carpeta, vamos a crear otra carpeta\n",
    "\n",
    "os.mkdir(\"Carpeta_os/ficheros\")"
   ]
  },
  {
   "cell_type": "code",
   "execution_count": 29,
   "metadata": {},
   "outputs": [],
   "source": [
    "# Si chequeamos ahora la estructura de carpetas, tendremos \"Carpeta_os\" y dentro una carpeta llamada \"ficheros\". Vamos a proceder a eliminar de forma recursiva todas las carpetas\n",
    "\n",
    "rmtree('Carpeta_os')"
   ]
  },
  {
   "cell_type": "markdown",
   "metadata": {},
   "source": [
    "\n",
    "**Repaso**\n",
    "- Para borrar carpetas junto con sus subcarpetas y/o archivos, usaremos `rmtree()` del módulo `shutil`."
   ]
  },
  {
   "cell_type": "markdown",
   "metadata": {},
   "source": [
    "---\n",
    "## Ejercicios módulo `shutil`\n",
    "\n",
    "- Este apartado no tiene ejercicios. \n",
    "\n",
    "---"
   ]
  },
  {
   "cell_type": "code",
   "execution_count": null,
   "metadata": {},
   "outputs": [],
   "source": []
  },
  {
   "cell_type": "markdown",
   "metadata": {},
   "source": [
    "---"
   ]
  },
  {
   "cell_type": "markdown",
   "metadata": {},
   "source": [
    "# Librería con `open()` y `.close()`\n",
    "\n",
    "En ocasiones querremos cargar datos que tengamos en ficheros en nuestro ordenador en nuestro jupyter. En el GitBook donde te has descargado este notebook también hay dos archivos de texto, si no los has descargado todavía debéis descargarlos para poder seguir con la lección. Recuerda la ruta donde los guardas y usa `listdir()` del módulo `os` para comprobar que estén ahí:"
   ]
  },
  {
   "cell_type": "code",
   "execution_count": 30,
   "metadata": {},
   "outputs": [
    {
     "data": {
      "text/plain": [
       "['archivo.txt',\n",
       " 'Archivos Brezo',\n",
       " 'autocorrelation-anatomy-python.jpg',\n",
       " 'caramelos.csv',\n",
       " 'data.csv',\n",
       " 'desktop.ini',\n",
       " 'ejercicio.txt',\n",
       " 'ejercicio1.xml',\n",
       " 'esta.txt',\n",
       " 'ficheros2.txt',\n",
       " 'Heart-Disease-Prediction',\n",
       " 'repasos',\n",
       " 'repaso_limpieza.ipynb',\n",
       " 'scrapping.ipynb',\n",
       " 'time-series-estacionario copy.ipynb',\n",
       " 'time-series-estacionario.ipynb']"
      ]
     },
     "execution_count": 30,
     "metadata": {},
     "output_type": "execute_result"
    }
   ],
   "source": [
    "# primero chequeamos si los ficheros descargados están en la carpeta donde estamos trabajando\n",
    "\n",
    "os.listdir()"
   ]
  },
  {
   "cell_type": "markdown",
   "metadata": {},
   "source": [
    "Si no habéis ejecutado vosotras las celdas, veréis en el *output* que en nuestro caso, los ficheros están en la carpeta donde estamos trabajando. 📌 En caso de que no sea así, y que vosotras hayáis ido modificando el código acorde a la estructura de vuestras carpetas, aseguraros de estar en la carpeta deseada y con los archivos necesarios. "
   ]
  },
  {
   "cell_type": "code",
   "execution_count": 31,
   "metadata": {},
   "outputs": [
    {
     "data": {
      "text/plain": [
       "'archivo.txt'"
      ]
     },
     "execution_count": 31,
     "metadata": {},
     "output_type": "execute_result"
    }
   ],
   "source": [
    "# almacenamos en una variable el archivo de txt\n",
    "nom_archivo = 'archivo.txt'\n",
    "nom_archivo"
   ]
  },
  {
   "cell_type": "code",
   "execution_count": 32,
   "metadata": {},
   "outputs": [
    {
     "data": {
      "text/plain": [
       "'C:\\\\Users\\\\agarc\\\\Desktop'"
      ]
     },
     "execution_count": 32,
     "metadata": {},
     "output_type": "execute_result"
    }
   ],
   "source": [
    "# almancenamos en una variable la ruta donde esta el archivo\n",
    "ubi_carpeta = getcwd()\n",
    "ubi_carpeta"
   ]
  },
  {
   "cell_type": "code",
   "execution_count": 34,
   "metadata": {},
   "outputs": [
    {
     "data": {
      "text/plain": [
       "'C:\\\\Users\\\\agarc\\\\Desktop\\\\archivo.txt'"
      ]
     },
     "execution_count": 34,
     "metadata": {},
     "output_type": "execute_result"
    }
   ],
   "source": [
    "# establecemos la ruta completa con el nombre del archivo\n",
    "ubi_archivo = ubi_carpeta + '\\\\' + nom_archivo\n",
    "ubi_archivo"
   ]
  },
  {
   "cell_type": "markdown",
   "metadata": {},
   "source": [
    "Hay mil maneras de obtener la ruta, como ves en el ejemplo aquí arriba. Si sabes donde se encuentra la carpeta y como se llama el archivo no te olvides de juntarlos con una barra `'/'` o `'\\\\'` en formato string. Otra forma de obtener esta ruta es usando la lista producida por `listdir()` para pasar por todos los contenidos de la carpeta con un bucle `for`."
   ]
  },
  {
   "cell_type": "code",
   "execution_count": 35,
   "metadata": {},
   "outputs": [
    {
     "data": {
      "text/plain": [
       "['archivo.txt',\n",
       " 'Archivos Brezo',\n",
       " 'autocorrelation-anatomy-python.jpg',\n",
       " 'caramelos.csv',\n",
       " 'data.csv',\n",
       " 'desktop.ini',\n",
       " 'ejercicio.txt',\n",
       " 'ejercicio1.xml',\n",
       " 'esta.txt',\n",
       " 'ficheros2.txt',\n",
       " 'Heart-Disease-Prediction',\n",
       " 'repasos',\n",
       " 'repaso_limpieza.ipynb',\n",
       " 'scrapping.ipynb',\n",
       " 'time-series-estacionario copy.ipynb',\n",
       " 'time-series-estacionario.ipynb']"
      ]
     },
     "execution_count": 35,
     "metadata": {},
     "output_type": "execute_result"
    }
   ],
   "source": [
    "# creamos una variable donde tenemos almancenados todos los ficheros y carpetas de nuestra carpeta de trabajo\n",
    "conts = os.listdir()\n",
    "conts"
   ]
  },
  {
   "cell_type": "code",
   "execution_count": 36,
   "metadata": {},
   "outputs": [
    {
     "data": {
      "text/plain": [
       "'C:\\\\Users\\\\agarc\\\\Desktop\\\\archivo.txt'"
      ]
     },
     "execution_count": 36,
     "metadata": {},
     "output_type": "execute_result"
    }
   ],
   "source": [
    "# establecemos la ruta al fichero usando la variable \"conts\" que creamos anteriormente\n",
    "ubi_archivo = ubi_carpeta + '\\\\' + conts[conts.index('archivo.txt')]\n",
    "ubi_archivo"
   ]
  },
  {
   "cell_type": "markdown",
   "metadata": {},
   "source": [
    "## `open()` y `close()`\n",
    "\n",
    "Una vez obtenida la ruta la metemos usaremo la función `open()`, que nos va a permitir abrir un archivo desde Python. No pertenece a ningún módulo en específico y por tanto no hace falta cargar nada. También introducimos el método `.close()`:"
   ]
  },
  {
   "cell_type": "code",
   "execution_count": 37,
   "metadata": {},
   "outputs": [
    {
     "data": {
      "text/plain": [
       "<_io.TextIOWrapper name='C:\\\\Users\\\\agarc\\\\Desktop\\\\archivo.txt' mode='r' encoding='cp1252'>"
      ]
     },
     "execution_count": 37,
     "metadata": {},
     "output_type": "execute_result"
    }
   ],
   "source": [
    "# abrimos el fichero\n",
    "f = open(ubi_archivo)\n",
    "f"
   ]
  },
  {
   "cell_type": "code",
   "execution_count": 38,
   "metadata": {},
   "outputs": [],
   "source": [
    "# cerramos el fichero, esto corresponde a cuando cerramos un fichero en nuestro ordenador dándole a la \"x\"\n",
    "f.close()"
   ]
  },
  {
   "cell_type": "markdown",
   "metadata": {},
   "source": [
    "Lo que hemos hecho aquí ha sido abrir el archivo y lo hemos almacenado en una variable llamada `f`. Al abrir el archivo con `open()` cargamos sus contenidos en un búfer de memoria y bloqeamos el archivo para que otras aplicaciones no puedan cambiarlo mientras estamos con el archivo abierto nosotras. Todo esto esta bien, pero en realidad, todavía no hemos podido ver el contenido del archivo, ya que cuando lo hemos printeado nos ha devuelto una cosa un poco extraña. "
   ]
  },
  {
   "cell_type": "markdown",
   "metadata": {},
   "source": [
    "## `.read()`\n",
    "\n",
    "Este método nos va a permitir leer el archivo (entero). Si le damos un argumento numérico ese se usará para cortar el *output*."
   ]
  },
  {
   "cell_type": "code",
   "execution_count": 39,
   "metadata": {},
   "outputs": [],
   "source": [
    "# abrimos el archivo\n",
    "f = open(ubi_archivo)"
   ]
  },
  {
   "cell_type": "code",
   "execution_count": 40,
   "metadata": {},
   "outputs": [
    {
     "data": {
      "text/plain": [
       "'Esta es la primera frase.\\nEsta es la segunda lÃ\\xadnea.\\n\\nLa lÃ\\xadnea anterior esta vacÃ\\xada.\\n\\tEsta tiene un tab delante.\\n6 caracteres difÃ\\xadciles: Ã¥, Ã¨, Ã\\xad, Ã¼, &, Â¿'"
      ]
     },
     "execution_count": 40,
     "metadata": {},
     "output_type": "execute_result"
    }
   ],
   "source": [
    "# leemos el archivo, para poder ver su contenido\n",
    "f.read()"
   ]
  },
  {
   "cell_type": "code",
   "execution_count": 41,
   "metadata": {},
   "outputs": [
    {
     "data": {
      "text/plain": [
       "''"
      ]
     },
     "execution_count": 41,
     "metadata": {},
     "output_type": "execute_result"
    }
   ],
   "source": [
    "# Este método nos permite especificar el número de caracteres que queremos leer, que lo pasaremos entre paréntesis. Imaginemos que queremos leer solo 10 caracteres\n",
    "f.read(10)"
   ]
  },
  {
   "cell_type": "markdown",
   "metadata": {},
   "source": [
    "Ups... ¿qué ha pasado? Esto es algo especial de este tipo de función, y es que podríamos decir, que es de un solo uso. Una vez que ya hemos hecho una acción con este archivo no podremos hacer otra, por lo tendremos que volver a cargarlo. "
   ]
  },
  {
   "cell_type": "code",
   "execution_count": 42,
   "metadata": {},
   "outputs": [
    {
     "data": {
      "text/plain": [
       "'Esta es la'"
      ]
     },
     "execution_count": 42,
     "metadata": {},
     "output_type": "execute_result"
    }
   ],
   "source": [
    "# volvemos a cargar el archivo\n",
    "f = open(ubi_archivo)\n",
    "\n",
    "# especificamos que solo queremos leer 10 caracteres\n",
    "f.read(10)\n",
    "\n"
   ]
  },
  {
   "cell_type": "code",
   "execution_count": 43,
   "metadata": {},
   "outputs": [],
   "source": [
    "# cerramos la lectura del archivo\n",
    "f.close()\n"
   ]
  },
  {
   "cell_type": "markdown",
   "metadata": {},
   "source": [
    "EL  contenido que leemos lo podemos guardar en una variable y así no hace falta mantener el archivo abierto:"
   ]
  },
  {
   "cell_type": "code",
   "execution_count": 44,
   "metadata": {},
   "outputs": [],
   "source": [
    "f = open(ubi_archivo)\n",
    "principio_archivo = f.read()\n",
    "f.close()"
   ]
  },
  {
   "cell_type": "code",
   "execution_count": 45,
   "metadata": {},
   "outputs": [
    {
     "data": {
      "text/plain": [
       "'Esta es la primera frase.\\nEsta es la segunda lÃ\\xadnea.\\n\\nLa lÃ\\xadnea anterior esta vacÃ\\xada.\\n\\tEsta tiene un tab delante.\\n6 caracteres difÃ\\xadciles: Ã¥, Ã¨, Ã\\xad, Ã¼, &, Â¿'"
      ]
     },
     "execution_count": 45,
     "metadata": {},
     "output_type": "execute_result"
    }
   ],
   "source": [
    "# ahora, aunque el fichero este cerrado, podremos seguir accediendo a su contenido\n",
    "principio_archivo"
   ]
  },
  {
   "cell_type": "code",
   "execution_count": 46,
   "metadata": {},
   "outputs": [
    {
     "data": {
      "text/plain": [
       "str"
      ]
     },
     "execution_count": 46,
     "metadata": {},
     "output_type": "execute_result"
    }
   ],
   "source": [
    "# ¿Que tipo de dato es esta variable? No nos debería sorprender que sea un string\n",
    "\n",
    "type(principio_archivo)"
   ]
  },
  {
   "cell_type": "markdown",
   "metadata": {},
   "source": [
    "## Argumentos opcionales para `open()`"
   ]
  },
  {
   "cell_type": "markdown",
   "metadata": {},
   "source": [
    "### *encoding*\n",
    "\n",
    "Como vimos al leer la segunda línea, la 'í' de línea no se leyó bien: se convirtió en una 'Ã­', es decir, las tildes parece que no nos las está leyendo bien. Seguro que lo habéis encontrado en más occasiones en vuestra vida, es un problema que se llama *encoding* y que es fácil de solucionar pero que también es fácil de olvidar! Cada plataforma tiene un *encoding* diferente. En ocasiones nos especificarán que *encoding* han usado, otras veces no y tendremos que investigar o llegados a cierto punto, nuestra experiencia será un plus:\n"
   ]
  },
  {
   "cell_type": "code",
   "execution_count": 47,
   "metadata": {},
   "outputs": [
    {
     "data": {
      "text/plain": [
       "'cp1252'"
      ]
     },
     "execution_count": 47,
     "metadata": {},
     "output_type": "execute_result"
    }
   ],
   "source": [
    "# esta librería nos va a permitir saber que sistema de encoding estamos usando, pero ojo que a veces puede equivocarse, como nos va a pasar en este ejemplo\n",
    "from locale import getpreferredencoding\n",
    "getpreferredencoding()"
   ]
  },
  {
   "cell_type": "markdown",
   "metadata": {},
   "source": [
    "Existen muchos encoding distintos, y básicamente lo que hacen es convertir los caracteres de un string a bytes, los '0' y '1' a base de toda la computación. Cada string ocupa en la memoria entonces algunos bytes, y la manera de interpretarlos y mostrar los caracteres depnde del encoding. Para una lista de los encoding que hay os dirigimos a la [documentación](https://docs.python.org/3/library/codecs.html#standard-encodings). En mi caso me salió 'cp1252p' en el encoding estándar, que en la lista en la documentación cubre los lenguajes de Europa oeste. El archivo que cargamos, sin embargo, fue guardado con 'UTF-8', un encoding estándar que cubre todos los idiomas. Para leer el archivo bien entonces queremos especificar el encoding que usar:"
   ]
  },
  {
   "cell_type": "code",
   "execution_count": 48,
   "metadata": {},
   "outputs": [
    {
     "data": {
      "text/plain": [
       "'Esta es la primera frase.\\nEsta es la segunda línea.\\n\\nLa línea anterior esta vacía.\\n\\tEsta tiene un tab delante.\\n6 caracteres difíciles: å, è, í, ü, &, ¿'"
      ]
     },
     "execution_count": 48,
     "metadata": {},
     "output_type": "execute_result"
    }
   ],
   "source": [
    "# abrimos el archivo\n",
    "f = open(ubi_archivo, encoding=\"utf-8\")\n",
    "\n",
    "# almacenamos en una variable su contenido\n",
    "principio_archivo = f.read()\n",
    "\n",
    "# cerramos el archivo\n",
    "principio_archivo"
   ]
  },
  {
   "cell_type": "markdown",
   "metadata": {},
   "source": [
    "Y listo! Ya tenemos nuestro texto bien formateado 👏🏽"
   ]
  },
  {
   "cell_type": "markdown",
   "metadata": {},
   "source": [
    "### *mode*\n",
    "\n",
    "Otro argumento opcional es el modo (`mode`) en que abres un archivo. El valor asignado por defecto es `mode='r'` en que `r` se refiere a *reading* o leer. Otras opciones para ese argumento son:\n",
    "- 'r' de *reading*, leer\n",
    "\n",
    "- 'w' de *writing*, escribir\n",
    "\n",
    "- 'x' de *exclusive creation*, sólo crearlo si no existe todavía\n",
    "\n",
    "- 'a' de *appending*, añadir texto al archivo sin manipular el texto que ya había.\n",
    "\n",
    "\n",
    "\n",
    "📌 **NOTA** Si abrimos un archivo en el modo `'r'` de *reading* (leer) que no existe todavía, nos da un error. \n",
    "\n",
    "\n",
    "En ese caso los carácteres han sido interpretados según el *encoding* de tu sistema operativo o el *encoding* que le diste tú en el otro argumento opcional. En vez de pasar los contenidos a *strings* también podemos dejarlo en formato crudo, es decir en bytes. El `mode` por tanto se puede especificar con 2 letras, una de la lista aquí arriba, seguida por un `t` (de texto, implícito), o `b` (de bytes, hay que ponerlo). Obviamente si lo quieres leer como bytes no tiene sentido especificar un *encoding* ya que no codificas nada sino que lo quieres leer en crudo sin codificar. Si das un argumento de mobo 'b' y un *encoding* a la vez te surgirá un error entonces."
   ]
  },
  {
   "cell_type": "code",
   "execution_count": 49,
   "metadata": {},
   "outputs": [
    {
     "name": "stdout",
     "output_type": "stream",
     "text": [
      "b'Esta es la primera frase.\\nEsta es la segunda l\\xc3\\xadnea.\\n\\nLa l\\xc3\\xadnea anterior esta vac\\xc3\\xada.\\n\\tEsta tiene un tab delante.\\n6 caracteres dif\\xc3\\xadciles: \\xc3\\xa5, \\xc3\\xa8, \\xc3\\xad, \\xc3\\xbc, &, \\xc2\\xbf'\n"
     ]
    }
   ],
   "source": [
    "# leer en binary, sin encoding #\n",
    "################################\n",
    "# abrimos el archivo\n",
    "f = open(ubi_archivo, mode = \"rb\")\n",
    "\n",
    "# almacenamos en una variable su contenido\n",
    "principio_archivo = f.read()\n",
    "\n",
    "# cerramos el archivo\n",
    "print(principio_archivo)\n",
    "\n",
    "# cerramos el archivo\n",
    "f.close()"
   ]
  },
  {
   "cell_type": "code",
   "execution_count": 50,
   "metadata": {},
   "outputs": [
    {
     "name": "stdout",
     "output_type": "stream",
     "text": [
      "Esta es la primera frase.\n",
      "Esta es la segunda lÃ­nea.\n",
      "\n",
      "La lÃ­nea anterior esta vacÃ­a.\n",
      "\tEsta tiene un tab delante.\n",
      "6 caracteres difÃ­ciles: Ã¥, Ã¨, Ã­, Ã¼, &, Â¿\n"
     ]
    }
   ],
   "source": [
    "# leer en texto, sinónimo de 'r' ya que la 't' es implícita, usando el encoding de tu sistema operativo #\n",
    "#########################################################################################################\n",
    "\n",
    "\n",
    "# abrimos el archivo\n",
    "f = open(ubi_archivo, mode = \"rt\")\n",
    "\n",
    "# almacenamos en una variable su contenido\n",
    "principio_archivo = f.read()\n",
    "\n",
    "# cerramos el archivo\n",
    "print(principio_archivo)\n",
    "\n",
    "# cerramos el archivo\n",
    "f.close()"
   ]
  },
  {
   "cell_type": "code",
   "execution_count": 51,
   "metadata": {},
   "outputs": [
    {
     "name": "stdout",
     "output_type": "stream",
     "text": [
      "Esta es la primera frase.\n",
      "Esta es la segunda línea.\n",
      "\n",
      "La línea anterior esta vacía.\n",
      "\tEsta tiene un tab delante.\n",
      "6 caracteres difíciles: å, è, í, ü, &, ¿\n"
     ]
    }
   ],
   "source": [
    "# leer en texto, especificando el encoding que usar #\n",
    "#####################################################\n",
    "\n",
    "# abrimos el archivo\n",
    "f = open(ubi_archivo, mode='rt', encoding='utf-8')\n",
    "\n",
    "# almacenamos en una variable su contenido\n",
    "principio_archivo = f.read()\n",
    "\n",
    "# cerramos el archivo\n",
    "print(principio_archivo)\n",
    "\n",
    "\n",
    "# cerramos el archivo\n",
    "f.close()\n"
   ]
  },
  {
   "cell_type": "markdown",
   "metadata": {},
   "source": [
    "**Repaso**\n",
    "- Si abres un archivo con la función `open()`, siempre ciérralo después.\n",
    "\n",
    "- Para cerrarlo puedes usar el método `.close()`.\n",
    "\n",
    "- Asígnale al archivo abierto una variable, que tendrá los métodos para leerlo o cerrarlo.\n",
    "\n",
    "- El modo `'t'` de `open()` convierte los bytes `'b'` a un string según el encoding.\n",
    "\n",
    "- Por defecto el modo es `'t'` con un encoding que depende de tu sistema operativo.\n",
    "\n",
    "- Por defecto, el archivo sólo se abre para *leerlo*, modo `'r'`.\n",
    "\n",
    "- Para escribir usa el modo `'w'` de writing.\n",
    "\n",
    "- Si no le das argumentos lo abrirá con `'rt'`, acepta combinaciones de los modos, como por ejemplo `'wb'`.\n",
    "\n",
    "- Si le das un argumento al método `.read()` se referirá a la cantidad de carácteres que queremos leer.\n",
    "\n"
   ]
  },
  {
   "cell_type": "markdown",
   "metadata": {},
   "source": [
    "---\n",
    "## Ejercicios `open()` y `close()`\n",
    "\n",
    "- Ubicación del archivo\n",
    "\n",
    "    7. ¿Dónde tienes guardado el archivo `'ejercicio.txt'`? Guarda la ruta absoluta en `ubi_carp_ej`.\n",
    "\n",
    "    8. ¿En qué carpeta estás ejecutando este notebook? (No necesariamente es la ubicación del notebook, obténla de otra forma.)\n",
    "\n",
    "    9. Construye la ruta al archivo `'ejercicio.txt'` con una ruta absoluta en `ubi_ej_abs`. Usa `ubi_carp_ej` para construirla.\n",
    "\n",
    "    10. Construye la ruta al archivo `'ejercicio.txt'` con una ruta relativa en `ubi_ej_rel`.\n",
    "\n",
    "- Abrir y cerrar\n",
    "\n",
    "    11. Abre el archivo `'ejercicio.txt'` como `f`, y ciérralo.\n",
    "\n",
    "    12. Abre el archivo, imprime los primeros 28 caractéres, y ciérralo.\n",
    "    \n",
    "    13. Abre el archivo, guarda los primeros 30 caractéres como `ejer30`, ciérralo, y imprime `ejer30`.\n",
    "\n",
    "    \n",
    "- Argumentos opcionales open\n",
    "\n",
    "    14. Usar read() con un archivo abierto con argumentos opcionales\n",
    "\n",
    "    15. Lee el archivo 'ejercicio.txt' en modo binario. Imprime la primera línea.\n",
    "    \n",
    "    16. Lee el archivo 'ejercicio.txt' con un encoding de 'utf-8'. Deja el modo en por defecto. Imprime la última (qué índice es?)\n",
    "---"
   ]
  },
  {
   "cell_type": "code",
   "execution_count": null,
   "metadata": {},
   "outputs": [],
   "source": []
  },
  {
   "cell_type": "markdown",
   "metadata": {},
   "source": [
    "---"
   ]
  },
  {
   "cell_type": "markdown",
   "metadata": {},
   "source": [
    "##  `.readline()`, `.readlines()`, y la palabra `with`\n",
    "\n",
    "Muchos archivos de texto tendrán más que una línea. Como vimos al leer los primeros `40` caracteres el archivo que usamos de ejemplo también tiene múltiple líneas. Si queremos leerlas línea a línea en vez de caracter a caracter usamos el método `.readline()`:"
   ]
  },
  {
   "cell_type": "code",
   "execution_count": 52,
   "metadata": {},
   "outputs": [],
   "source": [
    "# abrimos el archivo\n",
    "f = open(ubi_archivo)\n",
    "\n",
    "# usamos el método readline para leer las líneas del fichero, lo almacenamos en una variable para poder seguir trabajando con ello más adelante\n",
    "linea_archivo = f.readline()\n",
    "\n",
    "# cerramos el fichero\n",
    "f.close()"
   ]
  },
  {
   "cell_type": "code",
   "execution_count": 53,
   "metadata": {},
   "outputs": [
    {
     "data": {
      "text/plain": [
       "'Esta es la primera frase.\\n'"
      ]
     },
     "execution_count": 53,
     "metadata": {},
     "output_type": "execute_result"
    }
   ],
   "source": [
    "# veamos que contiene la variable \"linea_archivo\". Si nos fijamos, por defecto, nos devuelve la primera líena\n",
    "linea_archivo"
   ]
  },
  {
   "cell_type": "markdown",
   "metadata": {},
   "source": [
    "Si usamos la función `.readline()` dos veces consecutivas los devolverá las dos primeras líenas, y es que Python es muy listo! Veámoslo con un ejemplo:"
   ]
  },
  {
   "cell_type": "code",
   "execution_count": 54,
   "metadata": {},
   "outputs": [
    {
     "name": "stdout",
     "output_type": "stream",
     "text": [
      "Esta es la primera frase.\n",
      "\n",
      "Esta es la segunda lÃ­nea.\n",
      "\n"
     ]
    }
   ],
   "source": [
    "# abrimos el archivo\n",
    "f = open(ubi_archivo)\n",
    "\n",
    "# leemos la primera línea\n",
    "print(f.readline())\n",
    "\n",
    "# leemos la segunda línea\n",
    "print(f.readline())\n",
    "\n",
    "# cerramos el erchivo\n",
    "f.close()"
   ]
  },
  {
   "cell_type": "markdown",
   "metadata": {},
   "source": [
    "Hasta ahora hemos visto como leer una sola línea, pero podemos estar interesadas en leer más de una. Para esto podemos usar `.readlines()`. "
   ]
  },
  {
   "cell_type": "code",
   "execution_count": 60,
   "metadata": {},
   "outputs": [],
   "source": [
    "# abrimos el archivo\n",
    "f = open(ubi_archivo, encoding=\"utf-8\")\n",
    "\n",
    "# leemos todas las líneas del fichero y lo almacenamos en una variable\n",
    "lineas_archivo = f.readlines()\n",
    "\n",
    "# cerramos el fichero\n",
    "f.close()"
   ]
  },
  {
   "cell_type": "code",
   "execution_count": 61,
   "metadata": {},
   "outputs": [
    {
     "data": {
      "text/plain": [
       "['Esta es la primera frase.\\n',\n",
       " 'Esta es la segunda línea.\\n',\n",
       " '\\n',\n",
       " 'La línea anterior esta vacía.\\n',\n",
       " '\\tEsta tiene un tab delante.\\n',\n",
       " '6 caracteres difíciles: å, è, í, ü, &, ¿']"
      ]
     },
     "execution_count": 61,
     "metadata": {},
     "output_type": "execute_result"
    }
   ],
   "source": [
    "# veamos cuál es el contenido de la variable \"lineas_archivo\"\n",
    "lineas_archivo"
   ]
  },
  {
   "cell_type": "markdown",
   "metadata": {},
   "source": [
    "Y voilà! Nos devuelve una lista, donde cada elemento corresponde con una línea de nuestro texto. Por lo tanto, podremos acceder a cada elemento usando la indexación de listas que aprendimos en clase."
   ]
  },
  {
   "cell_type": "code",
   "execution_count": 62,
   "metadata": {},
   "outputs": [
    {
     "data": {
      "text/plain": [
       "'Esta es la primera frase.\\n'"
      ]
     },
     "execution_count": 62,
     "metadata": {},
     "output_type": "execute_result"
    }
   ],
   "source": [
    "# accedemos al primer elemento\n",
    "lineas_archivo[0]"
   ]
  },
  {
   "cell_type": "code",
   "execution_count": 63,
   "metadata": {},
   "outputs": [
    {
     "data": {
      "text/plain": [
       "'Esta es la segunda línea.\\n'"
      ]
     },
     "execution_count": 63,
     "metadata": {},
     "output_type": "execute_result"
    }
   ],
   "source": [
    "# accedemos al segundo elemento\n",
    "lineas_archivo[1]"
   ]
  },
  {
   "cell_type": "markdown",
   "metadata": {},
   "source": [
    "Hasta ahora siempre hemos abierto el archivo, cargado el contenido de una forma u otra, y lo cerramos enseguida. Como alternativa existe una forma en que cargamos el archivo sólo para ejecutar un bloque de código, y dejarlo al salir del bloque. Su uso es parecido a él de los bucles que vimos en otras clases. Recuerda que la indentación marca el final del bloque. Seguimos asignando lel archivo a la variable `f` como lo hicimos hasta ahora:"
   ]
  },
  {
   "cell_type": "code",
   "execution_count": 64,
   "metadata": {},
   "outputs": [
    {
     "name": "stdout",
     "output_type": "stream",
     "text": [
      "Esta es la primera frase.\n",
      "\n"
     ]
    }
   ],
   "source": [
    "with open(ubi_archivo) as f:\n",
    "    linea_archivo = f.readline()\n",
    "\n",
    "print(linea_archivo)\n",
    "    "
   ]
  },
  {
   "cell_type": "markdown",
   "metadata": {},
   "source": [
    "📌 **NOTA** ¿Recordais los argumentos opcionales de la función `open`? Eran los métodos `encoding` y `mode`. Estos argumentos también los podremos usar en el `with open()`"
   ]
  },
  {
   "cell_type": "markdown",
   "metadata": {},
   "source": [
    "**Repaso**\n",
    "- Con `with open() as f:` no te puedes olvidar de cerrar el archivo.\n",
    "\n",
    "- El método `.readline()` lee el archivo línea por línea, una por cada vez que llames el método.\n",
    "\n",
    "- `.readlines()` en plural devuelve una lista con un elemento por cada línea del archivo."
   ]
  },
  {
   "cell_type": "markdown",
   "metadata": {},
   "source": [
    "---\n",
    "## Ejercicios `readline()`, `readlines()`, y la palabra `with`\n",
    "\n",
    "- Abrir archivos con `with`\n",
    "\n",
    "    14. Abre el archivo `'ejercicio.txt'` con `with`. Llama la variable en que se guarderá la connexión con el archivo `f`. Usa pass ocupar el código indentado sin hacer nada todavía.\n",
    "\n",
    "    15. Con `with`, lee la primera línea (sin contar cuantos caractéres son) y guárdala en `lin1`.\n",
    "    \n",
    "    16. Imprime `lin1`. ¿Está abierto (bloqueado) el archivo `'ejercicio.txt'` ahora mismo?\n",
    "\n",
    "- Obtener una lista con el contenido del archivo.\n",
    "\n",
    "    17. Obtén la lista `lista_ejer` con el contenido de `'ejercicio.txt'`.\n",
    "\n",
    "- Bonus\n",
    "\n",
    "    18. Con un bucle `for` imprime las líneas que haya en la lista. Con un bucle `if` determina qué línea es la quinta (`[4]`) y imprime esa frase adelantada por `'-> '`.\n",
    "\n",
    "---"
   ]
  },
  {
   "cell_type": "code",
   "execution_count": null,
   "metadata": {},
   "outputs": [],
   "source": []
  },
  {
   "cell_type": "markdown",
   "metadata": {},
   "source": [
    "---"
   ]
  },
  {
   "cell_type": "markdown",
   "metadata": {},
   "source": [
    "# Crear y escribir en archivos de texto\n",
    "En este jupyter aprendimos como un fichero se puede abrir con disintos modos, que sea de lectura, que podamos añadir contenido, etc. Aprendimos que `'w'` viene de *writing* (escribir), pero no lo llegamos a usar. En este caso trabajaremos con el archivo `ficheros2.txt`, si lo abrís veréis que este archivo esta vacío (podéis abrirlo desde el explorador o el finder como hemos abierto siempre un fichero)"
   ]
  },
  {
   "cell_type": "code",
   "execution_count": 68,
   "metadata": {},
   "outputs": [
    {
     "data": {
      "text/plain": [
       "['archivo.txt',\n",
       " 'Archivos Brezo',\n",
       " 'autocorrelation-anatomy-python.jpg',\n",
       " 'caramelos.csv',\n",
       " 'data.csv',\n",
       " 'desktop.ini',\n",
       " 'ejercicio.txt',\n",
       " 'ejercicio1.xml',\n",
       " 'esta.txt',\n",
       " 'ficheros2.txt',\n",
       " 'Heart-Disease-Prediction',\n",
       " 'repasos',\n",
       " 'repaso_limpieza.ipynb',\n",
       " 'scrapping.ipynb',\n",
       " 'time-series-estacionario copy.ipynb',\n",
       " 'time-series-estacionario.ipynb']"
      ]
     },
     "execution_count": 68,
     "metadata": {},
     "output_type": "execute_result"
    }
   ],
   "source": [
    "# lo primero que tenemos que hacer es asegurarnos de que el fichero está en nuestra carpeta de trabajo. En nuestro casi si que lo está, por lo tanto no tendremos que hacer nada\n",
    "\n",
    "os.listdir()"
   ]
  },
  {
   "cell_type": "code",
   "execution_count": 69,
   "metadata": {},
   "outputs": [
    {
     "name": "stdout",
     "output_type": "stream",
     "text": [
      "\n"
     ]
    }
   ],
   "source": [
    "# ahora vamos a abrir el archivo con el modo de escritura (w)\n",
    "with open('ficheros2.txt') as f:\n",
    "\n",
    "    # y vamos a ver su contenido, lo cual no nos devuelve nada ya que el fichero esta vacío\n",
    "    print(f.read())"
   ]
  },
  {
   "cell_type": "markdown",
   "metadata": {},
   "source": [
    "## `.write()` \n",
    "\n",
    "Nos va a permitir escribir texto en nuestro fichero. "
   ]
  },
  {
   "cell_type": "code",
   "execution_count": 103,
   "metadata": {},
   "outputs": [],
   "source": [
    "# ahora vamos a abrir el archivo con el modo de escritura (w)\n",
    "with open('ficheros2.txt','w') as f:\n",
    "\n",
    "    # usaremos el método .write para escribir contenido en nuestro archivo\n",
    "    f.write('Primer texto de un archivo nuevo.')\n",
    "    f.close()"
   ]
  },
  {
   "cell_type": "markdown",
   "metadata": {},
   "source": [
    "Decimos que abre el archivo en modo 'w'. El archivo como vimos, todavñia no había nada, lo que va a hacer este método es escribir los contenidos que le damos en el `.write()`. Si leemos el archivo ahora aparece nuestra frase nueva. Acuérdate de poner entonces el modo 'r' (o omitir el modo para que vaya al 'r' por defecto):"
   ]
  },
  {
   "cell_type": "code",
   "execution_count": 104,
   "metadata": {},
   "outputs": [
    {
     "name": "stdout",
     "output_type": "stream",
     "text": [
      "Primer texto de un archivo nuevo.\n"
     ]
    }
   ],
   "source": [
    "with open('ficheros2.txt','r') as f:\n",
    "    print(f.read())\n",
    "    f.close()"
   ]
  },
  {
   "cell_type": "markdown",
   "metadata": {},
   "source": [
    "Probemos ahora a añadir una segunda línea con el método `.write` y el modo `w` de apertura del archivo:"
   ]
  },
  {
   "cell_type": "code",
   "execution_count": 105,
   "metadata": {},
   "outputs": [],
   "source": [
    "with open (\"ficheros2.txt\", \"w\") as f:\n",
    "    f.write(\"Segundo texto en un archivo nuevo\")\n",
    "    f.close()"
   ]
  },
  {
   "cell_type": "code",
   "execution_count": 106,
   "metadata": {},
   "outputs": [
    {
     "name": "stdout",
     "output_type": "stream",
     "text": [
      "Segundo texto en un archivo nuevo\n"
     ]
    }
   ],
   "source": [
    "#y ahora lo leemos\n",
    "\n",
    "with open(\"ficheros2.txt\", \"r\") as f:\n",
    "    print(f.read())"
   ]
  },
  {
   "cell_type": "markdown",
   "metadata": {},
   "source": [
    " nos ha borrado la primera línea que habíamos escrito 😢. Para evitar esto tendremos que usar el modo `a` cuando habramos el fichero, que nos permitía apendear (añadir) información al fichero sin que se nos borrara la información contenida previamente. De la misma forma que con el modo `w` usaremos el método de `.write()` para añadir contenido a nuestro archivo: "
   ]
  },
  {
   "cell_type": "code",
   "execution_count": 107,
   "metadata": {},
   "outputs": [],
   "source": [
    "# añadimos nuevo contenido a nuestro fichero\n",
    "with open('ficheros2.txt','a') as f:\n",
    "    f.write('\\n Tercer texto del archivo nuevo.')"
   ]
  },
  {
   "cell_type": "code",
   "execution_count": 108,
   "metadata": {},
   "outputs": [
    {
     "name": "stdout",
     "output_type": "stream",
     "text": [
      "Segundo texto en un archivo nuevo\n",
      " Tercer texto del archivo nuevo.\n"
     ]
    }
   ],
   "source": [
    "# lo leemos ahora para ver que ha pasado\n",
    "with open('ficheros2.txt', \"r\") as f:\n",
    "    print(f.read())"
   ]
  },
  {
   "cell_type": "markdown",
   "metadata": {},
   "source": [
    "En vez de `.write()` también podemos utilizar `.writelines()`, parecido al `.readlines()` que vimos. `.readlines()` produce una lista, que luego se puede escribir a otro archivo usando `.writelines()`. Por lo tanto, si queremos usar el método `writelines()` tendremos que pasar el contenido que queremos añadir en una lista"
   ]
  },
  {
   "cell_type": "code",
   "execution_count": 109,
   "metadata": {},
   "outputs": [],
   "source": [
    "# primero definimos una lista con el contenido que queremos añadir\n",
    "\n",
    "nuevo_contenido = [\"Cuarto texto de nuestro archivo\", \" Quinto texto de nuestro archivo\"]"
   ]
  },
  {
   "cell_type": "code",
   "execution_count": 110,
   "metadata": {},
   "outputs": [],
   "source": [
    "# queremos añadir las líenas que hemos especificado en la lista anterior, por lo tanto lo haremos en modo \"a\"\n",
    "with open('ficheros2.txt','a') as f:\n",
    "    f.writelines(nuevo_contenido)\n",
    "\n"
   ]
  },
  {
   "cell_type": "code",
   "execution_count": 111,
   "metadata": {},
   "outputs": [
    {
     "name": "stdout",
     "output_type": "stream",
     "text": [
      "Segundo texto en un archivo nuevo\n",
      " Tercer texto del archivo nuevo.Cuarto texto de nuestro archivo Quinto texto de nuestro archivo\n"
     ]
    }
   ],
   "source": [
    "# veamos ahora que contenido tiene ahora nuestro fichero\n",
    "with open('ficheros2.txt') as f:\n",
    "    print(f.read())"
   ]
  },
  {
   "cell_type": "markdown",
   "metadata": {},
   "source": [
    "Imaginemos ahora que queremos crear un nuevo fichero, para eso tendremos que usar el modo `x`, veamos un ejemplo: "
   ]
  },
  {
   "cell_type": "code",
   "execution_count": 112,
   "metadata": {},
   "outputs": [],
   "source": [
    "# creamos un fichero que se llama ficheros3, al que le vamos a añadir una frase de buenos dias\n",
    "with open('ficheros3.txt','x') as f:\n",
    "    f.write(\"Buenos dias\")"
   ]
  },
  {
   "cell_type": "markdown",
   "metadata": {},
   "source": [
    "¿Que pasaría si usamos el modo `x` para crear un fichero con un nombre de fichero que ya existe? Nos dará error!!!"
   ]
  },
  {
   "cell_type": "code",
   "execution_count": 114,
   "metadata": {},
   "outputs": [
    {
     "ename": "FileExistsError",
     "evalue": "[Errno 17] File exists: 'ficheros3.txt'",
     "output_type": "error",
     "traceback": [
      "\u001b[1;31m---------------------------------------------------------------------------\u001b[0m",
      "\u001b[1;31mFileExistsError\u001b[0m                           Traceback (most recent call last)",
      "\u001b[1;32mc:\\Users\\agarc\\Documents\\Adalab\\materiales-da-promo-b\\modulo-1\\modulo-1-python-basico\\assets\\notebooks\\modulo-1-leccion-10-ficheros-1.ipynb Cell 133'\u001b[0m in \u001b[0;36m<module>\u001b[1;34m\u001b[0m\n\u001b[0;32m      <a href='vscode-notebook-cell:/c%3A/Users/agarc/Documents/Adalab/materiales-da-promo-b/modulo-1/modulo-1-python-basico/assets/notebooks/modulo-1-leccion-10-ficheros-1.ipynb#ch0000166?line=0'>1</a>\u001b[0m \u001b[39m# volvemos a crear un fichero que se llama  ficheros3\u001b[39;00m\n\u001b[1;32m----> <a href='vscode-notebook-cell:/c%3A/Users/agarc/Documents/Adalab/materiales-da-promo-b/modulo-1/modulo-1-python-basico/assets/notebooks/modulo-1-leccion-10-ficheros-1.ipynb#ch0000166?line=1'>2</a>\u001b[0m \u001b[39mwith\u001b[39;00m \u001b[39mopen\u001b[39;49m(\u001b[39m'\u001b[39;49m\u001b[39mficheros3.txt\u001b[39;49m\u001b[39m'\u001b[39;49m,\u001b[39m'\u001b[39;49m\u001b[39mx\u001b[39;49m\u001b[39m'\u001b[39;49m) \u001b[39mas\u001b[39;00m f:\n\u001b[0;32m      <a href='vscode-notebook-cell:/c%3A/Users/agarc/Documents/Adalab/materiales-da-promo-b/modulo-1/modulo-1-python-basico/assets/notebooks/modulo-1-leccion-10-ficheros-1.ipynb#ch0000166?line=2'>3</a>\u001b[0m     f\u001b[39m.\u001b[39mwrite(\u001b[39m\"\u001b[39m\u001b[39mBuenos dias\u001b[39m\u001b[39m\"\u001b[39m)\n",
      "\u001b[1;31mFileExistsError\u001b[0m: [Errno 17] File exists: 'ficheros3.txt'"
     ]
    }
   ],
   "source": [
    "# volvemos a crear un fichero que se llama  ficheros3\n",
    "with open('ficheros3.txt','x') as f:\n",
    "    f.write(\"Buenos dias\")"
   ]
  },
  {
   "cell_type": "markdown",
   "metadata": {},
   "source": [
    "El error nos dice `FileExistsError: [Errno 17] File exists: 'ficheros3.txt'`, es decir, no puede crear el fichero porque ya existe. Igual que cuando lo hacemos de forma tradicional a través del explorador de archivos o el finder. "
   ]
  },
  {
   "cell_type": "markdown",
   "metadata": {},
   "source": [
    "**Repaso**\n",
    "- El modo 'w' de `open()` no mira si existe ni los contenidos del archivo, sobrescribe el contenido previo de nuestro fichero ⚠️.\n",
    "\n",
    "- Para escribir contenido en un fichero usaremos los métodos `.write()` o `.writelines()`.\n",
    "\n",
    "- El método `.writelines()` necesita una lista.\n",
    "\n",
    "- En el modo 'a' de `open()` se apendea(añade) contenido nuevo al fichero, manteniendo el contenido previo que había. \n",
    "\n",
    "\n",
    "- En el modo 'x' de `open()` nos permite crear nuevos archivos, si ya existe uno con el mismo nombre en esa carpeta nos dará un error."
   ]
  },
  {
   "cell_type": "markdown",
   "metadata": {},
   "source": [
    "---\n",
    "## Ejercicios crear y escribir en archivos de texto\n",
    "\n",
    "- Crear archivos\n",
    "\n",
    "    1. El archivo `'escribir.txt'` no existe, si intentaríamos abrirlo con `open()` en el modo por defecto, ¿da un error? Justifica tu respuesta.\n",
    "\n",
    "    2. Si intentaríamos abrirlo con `open()` en el modo 'r', ¿da un error? Justifica tu respuesta.\n",
    "\n",
    "    3. Si intentaríamos abrirlo con `open()` en el modo 'x', ¿da un error? Justifica tu respuesta.\n",
    "\n",
    "    4. Si intentaríamos abrirlo con `open()` en el modo 'w', ¿da un error? Justifica tu respuesta.\n",
    "\n",
    "    5. Si intentaríamos abrirlo con `open()` en el modo 'a', ¿da un error? Justifica tu respuesta.\n",
    "\n",
    "    6. Crea el archivo con `open()` y `with`. Llama la variable en que se guarderá la connexión con el archivo `f`. Usa `pass` para ocupar el código indentado sin hacer nada todavía.\n",
    "    \n",
    "- Escribir contenido\n",
    "    \n",
    "    7. Vuelve a abrir `'escribir.txt'` y usa `f.write()` para escribir `'Con este texto deja de ser vacío.'` en la primera línea. ¿Cómo cierras la connexión al archivo (si hace falta)?\n",
    "\n",
    "    8. Vuelve a abrir `'escribir.txt'` y usa `f.write()` para escribir `'Esta línea reemplaza la anterior.'` en la primera línea.\n",
    "    \n",
    "    9. Vuelve a abrir `'escribir.txt'` y usa `f.writelines()` para escribir `'\\nsegunda', '\\ntercera', '\\ncuarta'` en las líneas 2, 3, y 4, *sin* tocar la primera línea.,\n",
    "\n",
    "---"
   ]
  },
  {
   "cell_type": "markdown",
   "metadata": {},
   "source": [
    "# Archivos .xml\n",
    "\n",
    "`XML` es el acrónimo de *Extensible Markup Language*, es decir, es un lenguaje de marcado que define un conjunto de reglas para la codificación de documentos. Fue inventada para guardar y transportar datos en una forma en que sea legible tanto para máquinas como para seres humanos.\n",
    "\n",
    "Los archivos `.xml` pueden ser abiertos como texto y los podremos leer perfectamente. Veamos el siguiente ejemplo:\n",
    "\n",
    "```xml\n",
    "<correo>\n",
    "  <to>María</to>\n",
    "  <from>\n",
    "    <name>Ada</name>\n",
    "    <email>ada@adalab.es</email>\n",
    "  </from>\n",
    "  <heading>¿Qué tal?</heading>\n",
    "  <body>Hola Mari, qué tal estás, qué tal la familia? Escríbeme pronto, un beso!</body>\n",
    "</correo>\n",
    "```\n",
    "\n",
    "La información en un `xml` siempre está rodeada por al menos un par de campos definido como `<correo>` y `</correo>`. En este caso `María` está dentro de `to` y `correo`. Dentro de `correo`, además, hay otros campos definidos. Nota como dentro de `correo` sólo están campos, no hay texto sin llevar un tipo de subcampo especificado. Esos campos (de todos los niveles) los puede definir cualquiera como le da la gana. \n",
    "\n",
    "Supongamos que María usa otro código para gestionar sus correos. Aquí el `xml` de su correo:\n",
    "\n",
    "```xml\n",
    "<correo>\n",
    "  <to>Ada</to>\n",
    "  <from>\n",
    "    <name>María</name>\n",
    "  </from>\n",
    "  <body>Aquí todos estupendos, quedamos pronto para tomar un café y te cuento vale??</body>\n",
    "  <fecha>02/02/2022</fecha>\n",
    "</correo>\n",
    "```\n",
    "\n",
    "Vemos que falta el email y el asunto, y existe un campo nuevo llamado `fecha`, pero en principio no pasa nada. El dispositivo de Ada puede mostrarlo igual, aunque tenga otro sistema operativo u otra versión. Uno de los objetivos de este lenguaje es no tener que estar pendiente de versiones y actualizaciones o tener que cambiar los datos que hubo cada vez que se cambian los campos definidos.\n",
    "\n",
    "Veamos un ejemplo de [w3schools]('https://www.w3schools.com/xml/xml_tree.asp'):\n",
    "\n",
    "```xml\n",
    "<?xml version=\"1.0\" encoding=\"UTF-8\"?>\n",
    "<bookstore>\n",
    "  <book category=\"cooking\">\n",
    "    <title lang=\"en\">Everyday Italian</title>\n",
    "    <author>Giada De Laurentiis</author>\n",
    "    <year>2005</year>\n",
    "    <price>30.00</price>\n",
    "  </book>\n",
    "</bookstore>\n",
    "```\n",
    "  \n",
    "![alt text](../img/w3schools-nodetree.gif)\n",
    "\n",
    "La primera línea `<?xml version=\"1.0\" encoding=\"UTF-8\"?>` es opcional y describe propiedades del archivo, o puede contener comentarios sobre el mismo. Si existe, siempre estará al principio del archivo. Luego necesariamente tendrá un campo raiz (*root*) que envuelve todo lo demás. La jerarquía que se ve por las indentaciones también está reflejada en la gráfica: cada nivel superior es madre/padre (*parent*) de todos sus hijos (*children*). La tienda de libros (*bookstore*) podría tener muchos libros, es decir muchos elementos del tipo *book*. \n",
    "\n",
    "Nota como tanto el elemento `book` como el elemento `title` conllevan un atributo. En principio podrían haber sido elementos en sí, sin que cambie mucho. Esto ya es gusto individual. La misma informacion se puede guardar de distintas maneras:\n",
    "\n",
    "```xml\n",
    "<mail date=\"02 feb 2022\">\n",
    "</mail>\n",
    "\n",
    "<MAIL DATE=\"02 feb 2022\">\n",
    "</MAIL>\n",
    "\n",
    "<correo fecha=\"02 feb 2022\">\n",
    "</correo>\n",
    "\n",
    "<correo>\n",
    "    <fecha=\"02 feb 2022\">\n",
    "</correo>\n",
    "\n",
    "<correo>\n",
    "    <fecha>\n",
    "        <dia>02</dia>\n",
    "        <mes>feb</mes>\n",
    "        <año>2022</año>\n",
    "    </fecha>\n",
    "</correo>\n",
    "```\n",
    "\n",
    "Los nombres de los campos los puedes definir como quieras, y la información contenida también. La idea es que *attributes* son descriptores de la información del elemento, más  que información en sí. Como el título del libro fue definido en inglés, no es una información en sí del título pero sí que dice algo sobre el texto del título. Puede que para alguna versión en el futuro nos interesaría saber qué día de semana se envió el correo. Si la fecha hubiera sido un *attribute* no se podría haber ampliado la información con respeto a la fecha, mientrás el *element*  de fecha sí que lo podemos ampliar:\n",
    "\n",
    "```xml\n",
    "<correo>\n",
    "    <fecha>\n",
    "        <dia>\n",
    "            <num>02</num>\n",
    "            <nombre>Miércoles</nombre>\n",
    "        </dia>\n",
    "        <mes>feb</mes>\n",
    "        <año>2022</año>\n",
    "    </fecha>\n",
    "</correo\n",
    "```\n"
   ]
  },
  {
   "cell_type": "markdown",
   "metadata": {},
   "source": [
    "\n",
    "**Repaso**\n",
    "- Los archivos `.xml` tienen un árbol de campos que se llaman elementos.\n",
    "\n",
    "- Un elemento se abre y se cierra con `<>` y `</>`.\n",
    "\n",
    "- No hay texto fuera de un nivel de elementos.\n",
    "\n",
    "- Dentro de un nivel con otros elementos no puede haber texto suelto, necesitará un elemento que le rodee.\n",
    "\n",
    "- Opcionalmente un elemento puede tener un atributo.\n",
    "\n",
    "- Opcionalmente un archivo `.xml` empieza con un prologo o resumen. Un sólo campo `<>` que no necesita cierre."
   ]
  },
  {
   "cell_type": "markdown",
   "metadata": {},
   "source": [
    "---\n",
    "\n",
    "## Ejercicios archivos xml\n",
    "\n",
    "- La teoría de este apartado la pondrás en práctica en el apartado que viene.\n",
    "\n",
    "---"
   ]
  },
  {
   "cell_type": "markdown",
   "metadata": {},
   "source": [
    "## Trabajar con xml desde Python\n",
    "\n",
    "Para acceder a un archivo `xml` necesitamos importar la librería `xml` con algunos submódulos. Le asignamos el alias `ET` y usamos `parse()` para leer y interpretar los contenidos:"
   ]
  },
  {
   "cell_type": "code",
   "execution_count": 116,
   "metadata": {},
   "outputs": [],
   "source": [
    "# lo primero que hacemos es importar la librería que necesitamos para trabajar con archivos\n",
    "import xml.etree.ElementTree as ET\n",
    "\n"
   ]
  },
  {
   "cell_type": "code",
   "execution_count": 118,
   "metadata": {},
   "outputs": [],
   "source": [
    "# abrimos el fichero\n",
    "tree = ET.parse('contacto.xml')"
   ]
  },
  {
   "cell_type": "markdown",
   "metadata": {},
   "source": [
    "El método `.getroot()` nos saca el elemento que envuelve todo, como `<bookstore>` en el ejemplo del apartado anterior.\n"
   ]
  },
  {
   "cell_type": "code",
   "execution_count": 119,
   "metadata": {},
   "outputs": [],
   "source": [
    "root = tree.getroot()"
   ]
  },
  {
   "cell_type": "markdown",
   "metadata": {},
   "source": [
    "\n",
    "Cada elemento, incluyendo el elemento *root* tiene un `tag` y puede tener unos atributos. En este caso el elemento a la raíz de todo le acabamos de asignar el nombre `root`, y su nombre (*tag*) y atributos los accedemos entonces de esta manera:"
   ]
  },
  {
   "cell_type": "code",
   "execution_count": 123,
   "metadata": {},
   "outputs": [
    {
     "name": "stdout",
     "output_type": "stream",
     "text": [
      "contact-info\n"
     ]
    }
   ],
   "source": [
    "# printemos cuál es la raiz, el padre de nuestr archivo xml\n",
    "print(root.tag)"
   ]
  },
  {
   "cell_type": "code",
   "execution_count": 124,
   "metadata": {},
   "outputs": [
    {
     "name": "stdout",
     "output_type": "stream",
     "text": [
      "{}\n"
     ]
    }
   ],
   "source": [
    "# sacamos los atributos de nuestro fichero\n",
    "print(root.attrib)"
   ]
  },
  {
   "cell_type": "markdown",
   "metadata": {},
   "source": [
    "¿Qué elementos hay dentro de `root`? Iteramos por `root` y por cada elemento hijo le imprimimos el nombre (`tag`) del mismo. Ya que estamos al nivel de hijos, miramos los nietos, es decir el siguiente nivel de la jerarquia o los hijos del hijo en que estamos actualmente en el bucle `for`. Para diferenciar los nombres de los nietos de los nombres de los hijos vamos a adelantar sus nombres por unos espacios para que queden indentados:"
   ]
  },
  {
   "cell_type": "code",
   "execution_count": 131,
   "metadata": {},
   "outputs": [
    {
     "name": "stdout",
     "output_type": "stream",
     "text": [
      "contact: Es un hijo de nuestra raiz 'contact-info'\n",
      "type: Es un nieto de nuestra raiz 'contact-info'\n",
      "url: Es un nieto de nuestra raiz 'contact-info'\n",
      "contact: Es un hijo de nuestra raiz 'contact-info'\n",
      "type: Es un nieto de nuestra raiz 'contact-info'\n",
      "address: Es un nieto de nuestra raiz 'contact-info'\n",
      "socialmedia: Es un hijo de nuestra raiz 'contact-info'\n",
      "profile: Es un nieto de nuestra raiz 'contact-info'\n",
      "profile: Es un nieto de nuestra raiz 'contact-info'\n",
      "profile: Es un nieto de nuestra raiz 'contact-info'\n",
      "profile: Es un nieto de nuestra raiz 'contact-info'\n",
      "profile: Es un nieto de nuestra raiz 'contact-info'\n"
     ]
    }
   ],
   "source": [
    "for child in root:\n",
    "    print(f\"{child.tag}: Es un hijo de nuestra raiz 'contact-info'\" )\n",
    "    for subchild in child:\n",
    "        print(f\"{subchild.tag}: Es un nieto de nuestra raiz 'contact-info'\" )"
   ]
  },
  {
   "cell_type": "markdown",
   "metadata": {},
   "source": [
    "Si vamos chequeando con el archivo `xml` vemos que sigue una estructura de árbol, tenemos una rama principal que es `contact-info` del que salen dos ramas `contact` y `socialmedia`. De estos, a su vez salen más ramas: \n",
    "\n",
    "- De la subrama `contact` salen las siguientes ramas: `type`, `url` y `address`\n",
    "\n",
    "- De la subrama `socialmedia` sale solo `profile`\n"
   ]
  },
  {
   "cell_type": "markdown",
   "metadata": {},
   "source": [
    "Ya que sabemos cómo se llaman los campos podemos sacar su contenido uno por uno. Con `.find()` extraemos la primera ocasión en que el tag de un elemento coincida con el string que le damos. Recuerda que puedes tener múltiples elementos con el mismo nombre, como la tienda de libros que puede tener un montón de libros definidos todos en elementos `book`."
   ]
  },
  {
   "cell_type": "code",
   "execution_count": 132,
   "metadata": {},
   "outputs": [
    {
     "name": "stdout",
     "output_type": "stream",
     "text": [
      "Website\n"
     ]
    }
   ],
   "source": [
    "print(root.find('contact').find('type').text)"
   ]
  },
  {
   "cell_type": "code",
   "execution_count": 134,
   "metadata": {},
   "outputs": [
    {
     "name": "stdout",
     "output_type": "stream",
     "text": [
      "https://adalab.es/\n"
     ]
    }
   ],
   "source": [
    "print(root.find('contact').find('url').text)"
   ]
  },
  {
   "cell_type": "markdown",
   "metadata": {},
   "source": [
    "¿Que pasaría si queremos extraer el contenido del `contact`? Nos devolverá un elemento vacío, ya que para sacar el texto deberemos estar en la última rama de nuestro árbol. "
   ]
  },
  {
   "cell_type": "code",
   "execution_count": 133,
   "metadata": {},
   "outputs": [
    {
     "name": "stdout",
     "output_type": "stream",
     "text": [
      "\n",
      "      \n"
     ]
    }
   ],
   "source": [
    "print(root.find('contact').text)"
   ]
  },
  {
   "cell_type": "markdown",
   "metadata": {},
   "source": [
    "Lo mismo nos pasa con la rama de `socialmedia`, ya que ha pesar de que en el bucle for que realizamos arriba vimos que tenía un nieto, si nos vamos al fichero, vemos que el nieto `profile` tiene más hijos dentro. "
   ]
  },
  {
   "cell_type": "code",
   "execution_count": 138,
   "metadata": {},
   "outputs": [
    {
     "name": "stdout",
     "output_type": "stream",
     "text": [
      "\n",
      "         \n"
     ]
    }
   ],
   "source": [
    "print(root.find('socialmedia').find('profile').text)"
   ]
  },
  {
   "cell_type": "code",
   "execution_count": 146,
   "metadata": {},
   "outputs": [
    {
     "name": "stdout",
     "output_type": "stream",
     "text": [
      "name\n",
      "url\n",
      "name\n",
      "url\n",
      "name\n",
      "url\n",
      "name\n",
      "url\n",
      "name\n",
      "url\n"
     ]
    }
   ],
   "source": [
    "# veamos como podemos acceder a los hijos de profile. Para eso deberemos seguir iterando: \n",
    "\n",
    "# emepzamos interando por todo el archivo\n",
    "for child in root:\n",
    "\n",
    "    # ahora solo nos interesa saber cuales son los \"nietos\" y \"bisnietos\" del atributo \"socialmedia\", por lo que establecemos la condición\n",
    "    if child.tag == \"socialmedia\":\n",
    "\n",
    "        # iteramos por lo \"nietos\"\n",
    "        for subchild in child:\n",
    "\n",
    "            # iteramos por los \"bisnietos\"\n",
    "            for subsubchild in subchild: \n",
    "\n",
    "                # y printemos sus nombres para saber como se llaman y poder acceder a ellos\n",
    "                print(subsubchild.tag)"
   ]
  },
  {
   "cell_type": "markdown",
   "metadata": {},
   "source": [
    "Por lo tanto, dentro de `socialmedia` y dentro de `profile` tenemos los \"bisnietos\" `name` y `url`. Esto puede resultar algo confuso, os recomendamos que tengáis el fichero abierto al lado y un papel y un boli para hacernos nuestros esquemas! "
   ]
  },
  {
   "cell_type": "code",
   "execution_count": 139,
   "metadata": {},
   "outputs": [
    {
     "name": "stdout",
     "output_type": "stream",
     "text": [
      "Twitter\n"
     ]
    }
   ],
   "source": [
    "# veamos el contenido del \"bisnieto\" name\n",
    "print(root.find('socialmedia').find('profile').find(\"name\").text)"
   ]
  },
  {
   "cell_type": "code",
   "execution_count": 147,
   "metadata": {},
   "outputs": [
    {
     "name": "stdout",
     "output_type": "stream",
     "text": [
      "https://twitter.com/Adalab_Digital\n"
     ]
    }
   ],
   "source": [
    "# veamos el contenido del \"bisnieto\" url\n",
    "print(root.find('socialmedia').find('profile').find(\"url\").text)"
   ]
  },
  {
   "cell_type": "markdown",
   "metadata": {},
   "source": [
    "Genial!!! Hasta ahora hemos visto como acceder al contenido, pero... 🤔 solo nos estaba devolviendo el contenido de una etiqueta. ¿Cómo podríamos hacer para que nos devolviera el contenido de todas las etiquetas con el mismo nombre? Usando `.findall()` que nos da una lista de todos los elementos cuyo `tag` coincide con el string dado. Para cada contacto sacamos el subelemento que se llama `type` y accedemos a su texto:"
   ]
  },
  {
   "cell_type": "code",
   "execution_count": 150,
   "metadata": {},
   "outputs": [
    {
     "name": "stdout",
     "output_type": "stream",
     "text": [
      "Website\n",
      "Mail\n"
     ]
    }
   ],
   "source": [
    "# iteramos por el hijo \"contact\" y accedemos a todos\n",
    "for contact in root.findall('contact'):\n",
    "    # dentro de este sacamos su contenido\n",
    "    print(contact.find('type').text)"
   ]
  },
  {
   "cell_type": "code",
   "execution_count": 153,
   "metadata": {},
   "outputs": [
    {
     "name": "stdout",
     "output_type": "stream",
     "text": [
      "Twitter\n",
      "Facebook\n",
      "Linkedin\n",
      "Instagram\n",
      "Youtube\n"
     ]
    }
   ],
   "source": [
    "# como lo haríamos para el otro elemento que teníamos\n",
    "for subelement in root.find(campo2).findall('profile'):\n",
    "    print(subelement.find('name').text)"
   ]
  },
  {
   "cell_type": "markdown",
   "metadata": {},
   "source": [
    "**Repaso**\n",
    "- Para trabajar con un xml necesitamos importar `ElementTree` del módulo xml. Por convención le asignamos el alias `ET`: `import xml.etree.ElementTree as ET`.\n",
    "\n",
    "- Con `parse()` accedemos al archivo y le asignamos a una variable.\n",
    "\n",
    "- `.getroot()` saca el campo que envuelve todo, es decir el elemento raíz de todo el árbol del xml.\n",
    "\n",
    "- Un elemento (incluso la raíz) tiene un `.tag()` que es el nombre del elemento, y puede tener atributos en `.attrib()`.\n",
    "\n",
    "- En un elemento al final del árbol existirá texto. A ello se puede acceder con `.text()`."
   ]
  },
  {
   "cell_type": "markdown",
   "metadata": {},
   "source": [
    "---\n",
    "## Ejercicios trabajar con xml desde Python\n",
    "\n",
    "- Abrir un archivo xml\n",
    "\n",
    "    10. Carga la librería adecuada con el alias `ET`.\n",
    "\n",
    "    11. Carga el árbol xml del archivo 'ejercicio1.xml' a la variable `tree`.\n",
    "\n",
    "    12. Saca el elemento raíz de `tree` en la variable `root`.\n",
    "\n",
    "    13. ¿Cómo se llama el elemento raíz? Usa una propiedad para descubrirlo, y imprime el resultado.\n",
    "\n",
    "    14. ¿Tiene atributos la raíz?\n",
    "\n",
    "- Elementos hijos\n",
    "\n",
    "    15. ¿Cuántos hijos tiene la raíz? ¿Cómo se llaman?\n",
    "\n",
    "    16. El primer hijo, ¿tiene atributos?\n",
    "\n",
    "    17. El primer hijo, ¿tiene hijos o tiene texto directamente?\n",
    "\n",
    "    18. Del segundo hijo, su primer hijo, ¿tiene hijos o tiene texto directamente?\n",
    "\n",
    "    19. Del segundo hijo, su segundo hijo, ¿tiene hijos o tiene texto directamente?\n",
    "    \n",
    "    20. Imprime el texto que haya en el elemento `hex` del primer hijo del tipo `color`.\n",
    "\n",
    "---"
   ]
  },
  {
   "cell_type": "markdown",
   "metadata": {},
   "source": []
  }
 ],
 "metadata": {
  "kernelspec": {
   "display_name": "Python 3.9.7 ('base')",
   "language": "python",
   "name": "python3"
  },
  "language_info": {
   "codemirror_mode": {
    "name": "ipython",
    "version": 3
   },
   "file_extension": ".py",
   "mimetype": "text/x-python",
   "name": "python",
   "nbconvert_exporter": "python",
   "pygments_lexer": "ipython3",
   "version": "3.9.7"
  },
  "orig_nbformat": 4,
  "vscode": {
   "interpreter": {
    "hash": "8e1f904fe714ccd05b7907fe541d28c2ec20b612a1af6f34d013e1f0fd7aabf1"
   }
  }
 },
 "nbformat": 4,
 "nbformat_minor": 2
}

{
 "cells": [
  {
   "cell_type": "code",
   "execution_count": 2,
   "metadata": {},
   "outputs": [
    {
     "ename": "TypeError",
     "evalue": "bad operand type for unary -: 'str'",
     "output_type": "error",
     "traceback": [
      "\u001b[0;31m---------------------------------------------------------------------------\u001b[0m",
      "\u001b[0;31mTypeError\u001b[0m                                 Traceback (most recent call last)",
      "\u001b[0;32m/tmp/ipykernel_8506/175063566.py\u001b[0m in \u001b[0;36m<module>\u001b[0;34m\u001b[0m\n\u001b[1;32m      5\u001b[0m \u001b[0mfinal\u001b[0m \u001b[0;34m=\u001b[0m \u001b[0;34m\"Pues ya está, ¿jugamos otro día?\"\u001b[0m\u001b[0;34m\u001b[0m\u001b[0;34m\u001b[0m\u001b[0m\n\u001b[1;32m      6\u001b[0m \u001b[0;34m\u001b[0m\u001b[0m\n\u001b[0;32m----> 7\u001b[0;31m \u001b[0mboard\u001b[0m \u001b[0;34m=\u001b[0m \u001b[0;34m[\u001b[0m\u001b[0;34m[\u001b[0m\u001b[0;34m\"-\"\u001b[0m\u001b[0;34m,\u001b[0m\u001b[0;34m\"-\"\u001b[0m\u001b[0;34m,\u001b[0m\u001b[0;34m\"-\"\u001b[0m\u001b[0;34m]\u001b[0m\u001b[0;34m,\u001b[0m\u001b[0;34m[\u001b[0m\u001b[0;34m\"-\"\u001b[0m\u001b[0;34m,\u001b[0m\u001b[0;34m\"-\"\u001b[0m\u001b[0;34m,\u001b[0m\u001b[0;34m-\u001b[0m\u001b[0;34m\"\"\u001b[0m\u001b[0;34m]\u001b[0m\u001b[0;34m,\u001b[0m\u001b[0;34m[\u001b[0m\u001b[0;34m\"-\"\u001b[0m\u001b[0;34m,\u001b[0m\u001b[0;34m\"-\"\u001b[0m\u001b[0;34m,\u001b[0m\u001b[0;34m-\u001b[0m\u001b[0;34m\"\"\u001b[0m\u001b[0;34m]\u001b[0m\u001b[0;34m]\u001b[0m\u001b[0;34m\u001b[0m\u001b[0;34m\u001b[0m\u001b[0m\n\u001b[0m\u001b[1;32m      8\u001b[0m \u001b[0;34m\u001b[0m\u001b[0m\n\u001b[1;32m      9\u001b[0m \u001b[0;34m\u001b[0m\u001b[0m\n",
      "\u001b[0;31mTypeError\u001b[0m: bad operand type for unary -: 'str'"
     ]
    }
   ],
   "source": [
    "# Variables predefinidas\n",
    "\n",
    "bienvenida = \"Hola, ¿quieres jugar conmigo?\"\n",
    "\n",
    "final = \"Pues ya está, ¿jugamos otro día?\"\n",
    "\n",
    "board = [[\"-\",\"-\",\"-\"],[\"-\",\"-\",-\"\"],[\"-\",\"-\",-\"\"]]\n",
    "\n",
    "\n",
    "# Definir el tablero con todo \"-\"\n",
    "\n",
    "# Inicio del juego\n",
    "\n",
    "# Imprimir tablero\n",
    "\n",
    "# Input de la usuaria\n",
    "\n",
    "\n",
    "coor = tuple(int(num)-1 for num in coor.split(\",\"))\n",
    "\n",
    "# Actualizar tablero\n",
    "\n",
    "# Imprimir tablero\n",
    "\n",
    "# Input del usuario\n",
    "\n",
    "\n",
    "coor = tuple(int(co)-1 for co in coor.split(\",\"))\n",
    "\n",
    "# Actualizar tablero\n",
    "\n",
    "# Imprimir tablero\n",
    "\n",
    "# Convertir los caracteres del board a una sola lista\n",
    "board_list = sum(board,[])\n",
    "\n",
    "# Sacar los elementos únicos que no sean \"-\"\n",
    "\n",
    "# Final del juego"
   ]
  },
  {
   "cell_type": "code",
   "execution_count": 3,
   "metadata": {},
   "outputs": [],
   "source": [
    "# Variables predefinidas\n",
    "\n",
    "bienvenida = \"Hola, ¿quieres jugar conmigo?\"\n",
    "final = \"Pues ya está, ¿jugamos otro día?\"\n",
    "board = [[\"-\",\"-\",\"-\"],[\"-\",\"-\",\"-\"],[\"-\",\"-\",\"-\"]]"
   ]
  },
  {
   "cell_type": "code",
   "execution_count": 4,
   "metadata": {},
   "outputs": [
    {
     "name": "stdout",
     "output_type": "stream",
     "text": [
      "Hola, ¿quieres jugar conmigo?\n",
      "- | - | - | \n",
      " - | - | - | \n",
      " - | - | - |\n"
     ]
    }
   ],
   "source": [
    "print(bienvenida)\n",
    "print(board[0][0],\"|\", board[0][1],\"|\", board[0][2],\"|\",\"\\n\",board[1][0],\"|\",board[1][1],\"|\", board[1][2],\"|\",\"\\n\",board[2][0],\"|\",board[2][1],\"|\", board[2][2],\"|\")"
   ]
  },
  {
   "cell_type": "code",
   "execution_count": 10,
   "metadata": {},
   "outputs": [
    {
     "name": "stdout",
     "output_type": "stream",
     "text": [
      "['-', '-', '-'] \n",
      " ['-', '-', '-'] \n",
      " ['-', '-', '-']\n"
     ]
    }
   ],
   "source": [
    "print(board[0],\"\\n\",board[1],\"\\n\",board[2])"
   ]
  },
  {
   "cell_type": "code",
   "execution_count": 19,
   "metadata": {},
   "outputs": [
    {
     "name": "stdout",
     "output_type": "stream",
     "text": [
      "['m', '2,2']\n"
     ]
    }
   ],
   "source": [
    "# Input de la usuaria\n",
    "\n",
    "jugada_usuaria = input(\"\"\"Tres en raya! Coloca tu ficha. Hazlo así: Escribe tu inicial y las coordenadas de la posición que elegiste.\n",
    "Mira un ejemplo: M 2,2\"\"\").split()\n",
    "\n",
    "print(jugada_usuaria)"
   ]
  },
  {
   "cell_type": "code",
   "execution_count": null,
   "metadata": {},
   "outputs": [],
   "source": [
    "#-- ¡Comenzamos el juego! --\n",
    "\n",
    "- | - | -\n",
    "- | - | -\n",
    "- | - | -\n",
    "\n",
    "#La usuaria dio el input: x 2,3\n",
    "\n",
    "- | - | -\n",
    "- | - | x\n",
    "- | - | -\n",
    "\n",
    "#La usuaria dio el input: o 3,1\n",
    "\n",
    "- | - | -\n",
    "- | - | x\n",
    "o | - | -\n",
    "\n",
    "#-- ¡Terminamos el juego! --\n",
    "#Los 2 jugadores que han participado son {'x', 'o'}"
   ]
  }
 ],
 "metadata": {
  "kernelspec": {
   "display_name": "Python 3.9.7 ('base': conda)",
   "language": "python",
   "name": "python3"
  },
  "language_info": {
   "codemirror_mode": {
    "name": "ipython",
    "version": 3
   },
   "file_extension": ".py",
   "mimetype": "text/x-python",
   "name": "python",
   "nbconvert_exporter": "python",
   "pygments_lexer": "ipython3",
   "version": "3.9.7"
  },
  "orig_nbformat": 4,
  "vscode": {
   "interpreter": {
    "hash": "8e1f904fe714ccd05b7907fe541d28c2ec20b612a1af6f34d013e1f0fd7aabf1"
   }
  }
 },
 "nbformat": 4,
 "nbformat_minor": 2
}

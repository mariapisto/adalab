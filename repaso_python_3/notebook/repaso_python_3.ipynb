{
 "cells": [
  {
   "cell_type": "code",
   "execution_count": 1,
   "metadata": {},
   "outputs": [],
   "source": [
    "#lo primero poner nuestros imports\n",
    "\n",
    "import os\n",
    "#import xml.etree.ElementTree as ET"
   ]
  },
  {
   "cell_type": "markdown",
   "metadata": {},
   "source": [
    "FICHEROS\n",
    "Nos cremaos un metodo para crear un nuevo fichero\n",
    "Nos creamos un método que nos ayude a escribir contenido en un fichero. "
   ]
  },
  {
   "cell_type": "code",
   "execution_count": 2,
   "metadata": {},
   "outputs": [
    {
     "data": {
      "text/plain": [
       "'/home/cachito/Adalab/repaso_python_3/notebook'"
      ]
     },
     "execution_count": 2,
     "metadata": {},
     "output_type": "execute_result"
    }
   ],
   "source": [
    "# en qué directorio estamos trabajando??\n",
    "\n",
    "directorio_actual = os.getcwd()\n",
    "directorio_actual"
   ]
  },
  {
   "cell_type": "code",
   "execution_count": 3,
   "metadata": {},
   "outputs": [],
   "source": [
    "# queremos crear un fichero, ¿dónde? en nuestra carpeta files. usaremos el modo=> x with open(\"../files/alumnas.txt\", \"x\") para abrir un fichero nuevo, y ubicarnos en la carpeta files(una cartea por arriba de donde estamso)\n",
    "with open(\"../files/alumnas.txt\", \"x\") as f:\n",
    "    pass #si no quiero que pase nada al abrirlo, pongo un pass, pero siempre tiene que \"pasar algo\" despues del with open.\n",
    "\n",
    "# este no es necesario cerrarlo(no siempre es obligatorio, pero sí recomendable.)\n",
    "\n"
   ]
  },
  {
   "cell_type": "code",
   "execution_count": 5,
   "metadata": {},
   "outputs": [
    {
     "name": "stdout",
     "output_type": "stream",
     "text": [
      "Este fichero ya existe\n",
      "ok amigo, nos vemos pronto\n"
     ]
    }
   ],
   "source": [
    "# en el caso de que ya exista un fichero con el mismo nombre...\n",
    "# vamos a asegurarnos con un try, except\n",
    "\n",
    "try:\n",
    "    with open(\"../files/alumnas.txt\", \"x\") as f:\n",
    "        f.close()\n",
    "except:\n",
    "    print(\"Este fichero ya existe\")\n",
    "    #pero le vamos a dar la oportunidad de crear el fichero, usando otro nombre\n",
    "    respuesta = input(\"Aún así quieres crear un fichero nuevo? S/N\")\n",
    "\n",
    "    while respuesta.upper() not in [\"S\", \"N\"]:\n",
    "        print(\"no nos estas pasando una opción válida\")\n",
    "        respuesta = input(\"Aún así quieres crear un fichero nuevo? S/N\")\n",
    "\n",
    "\n",
    "    if respuesta.upper == \"N\": #no quiere, pues se acaba el programa\n",
    "        print (\"ok amigo, nos vemos pronto\")\n",
    "    else:\n",
    "        nombre = input(\"¿Cómo quieres que se llame tu nuevo fichero?\")\n",
    "\n",
    "        with open(f\"../files/{nombre}\", \"x\") as f:\n",
    "        f.close()\n",
    "\n",
    "\n",
    "\n",
    "# si vuelve a intentar abrir un archivo que ya existe... RETO, convertirlo en una función recursiva, a ver qué tal...\n",
    "\n",
    "\n",
    "\n",
    "\n"
   ]
  },
  {
   "cell_type": "code",
   "execution_count": 7,
   "metadata": {},
   "outputs": [],
   "source": [
    "# ahora lo convertimos en función... simplemente, dándole la identación y metiendolo en un def... y le vamos a pasar una variable como argumento de mi función.\n",
    "# le vamos a pedir otro parámetro que es el path donde quiere guardar el fichero.\n",
    "\n",
    "def crear_fichero(path, nombre_fichero):\n",
    "    try:\n",
    "        with open(f\"{path}/{nombre_fichero}\", \"x\") as f:\n",
    "            f.close()\n",
    "    except:\n",
    "        print(\"Este fichero ya existe\")\n",
    "        #pero le vamos a dar la oportunidad de crear el fichero, usando otro nombre\n",
    "        respuesta = input(\"Aún así quieres crear un fichero nuevo? S/N\")\n",
    "\n",
    "        while respuesta.upper() not in [\"S\", \"N\"]:\n",
    "            print(\"no nos estas pasando una opción válida\")\n",
    "            respuesta = input(\"Aún así quieres crear un fichero nuevo? S/N\")\n",
    "\n",
    "\n",
    "        if respuesta.upper == \"N\": #no quiere, pues se acaba el programa\n",
    "            print (\"ok amigo, nos vemos pronto\")\n",
    "        else:\n",
    "            nombre = input(\"¿Cómo quieres que se llame tu nuevo fichero?\")\n",
    "\n",
    "            with open(f\"../files/{nombre}\", \"x\") as f:\n",
    "                f.close()"
   ]
  },
  {
   "cell_type": "code",
   "execution_count": 11,
   "metadata": {},
   "outputs": [],
   "source": [
    "#defino dos variables, una con la ruta relativa que voy a meter(podría ser la ruta absoluta)\n",
    "#defino la variable nombre, con la extensión que yo decida\n",
    "ruta = \"../files\"\n",
    "nombre = \"alumnas_data_promo_b.txt\"\n",
    "\n",
    "#crear_fichero(ruta,nombre)\n"
   ]
  },
  {
   "cell_type": "code",
   "execution_count": null,
   "metadata": {},
   "outputs": [],
   "source": [
    "#RETO2 crear una funcion que cree un archivo nuevo, si ya existe, puedo cambiar de nombre o abrirlo...\n"
   ]
  },
  {
   "cell_type": "code",
   "execution_count": 12,
   "metadata": {},
   "outputs": [],
   "source": [
    "#Ahora vamos a meter toda esta función en una clase.\n",
    "\n",
    "class Ficheros:\n",
    "    def __init__(self, path, nombre_fichero):\n",
    "        self.path = path\n",
    "        self.nombre_fichero = nombre_fichero # defino el constructo y luego copi y pego la función, y hago unos pequeñitos cambios\n",
    "\n",
    "    def crear_fichero(self): #aquí ya sólo recibe el parámetro self\n",
    "        try:\n",
    "            with open(f\"{self.path}/{self.nombre_fichero}\", \"x\") as f: #aquí las variables serán de clase, con el self. delante.\n",
    "                f.close()\n",
    "        except:\n",
    "            print(\"Este fichero ya existe\")\n",
    "            #pero le vamos a dar la oportunidad de crear el fichero, usando otro nombre\n",
    "            respuesta = input(\"Aún así quieres crear un fichero nuevo? S/N\")\n",
    "\n",
    "            while respuesta.upper() not in [\"S\", \"N\"]:\n",
    "                print(\"no nos estas pasando una opción válida\")\n",
    "                respuesta = input(\"Aún así quieres crear un fichero nuevo? S/N\")\n",
    "\n",
    "\n",
    "            if respuesta.upper == \"N\": #no quiere, pues se acaba el programa\n",
    "                print (\"ok amigo, nos vemos pronto\")\n",
    "            else:\n",
    "                nombre = input(\"¿Cómo quieres que se llame tu nuevo fichero?\")\n",
    "\n",
    "                with open(f\"../files/{nombre}\", \"x\") as f:\n",
    "                    f.close()\n"
   ]
  },
  {
   "cell_type": "code",
   "execution_count": 16,
   "metadata": {},
   "outputs": [],
   "source": [
    "jugar_ficheros = Ficheros(ruta, nombre)\n",
    "\n",
    "crear_fichero(ruta, nombre)\n"
   ]
  },
  {
   "cell_type": "code",
   "execution_count": 19,
   "metadata": {},
   "outputs": [
    {
     "data": {
      "text/plain": [
       "<_io.TextIOWrapper name='../files/alumnas_data_promo_b.txt' mode='r' encoding='UTF-8'>"
      ]
     },
     "execution_count": 19,
     "metadata": {},
     "output_type": "execute_result"
    }
   ],
   "source": [
    "open(f\"{ruta}/{nombre}\")"
   ]
  }
 ],
 "metadata": {
  "kernelspec": {
   "display_name": "Python 3.9.7 ('base')",
   "language": "python",
   "name": "python3"
  },
  "language_info": {
   "codemirror_mode": {
    "name": "ipython",
    "version": 3
   },
   "file_extension": ".py",
   "mimetype": "text/x-python",
   "name": "python",
   "nbconvert_exporter": "python",
   "pygments_lexer": "ipython3",
   "version": "3.9.7"
  },
  "orig_nbformat": 4,
  "vscode": {
   "interpreter": {
    "hash": "8e1f904fe714ccd05b7907fe541d28c2ec20b612a1af6f34d013e1f0fd7aabf1"
   }
  }
 },
 "nbformat": 4,
 "nbformat_minor": 2
}

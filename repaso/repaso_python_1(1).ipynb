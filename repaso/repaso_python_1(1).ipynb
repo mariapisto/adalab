{
 "cells": [
  {
   "cell_type": "markdown",
   "metadata": {},
   "source": [
    "# Métodos de *strings* "
   ]
  },
  {
   "cell_type": "markdown",
   "metadata": {},
   "source": [
    "Dado el siguiente *string* \n",
    "\n",
    "```python\n",
    "\n",
    "string = \"\"\"Hoy estamos en una clase de repaso,\n",
    "el objetivo es intentar solucionar todas vuestras dudas, \n",
    "preguntad todo lo que queráis! \n",
    "\"\"\"\n",
    "```\n",
    "\n",
    "\n",
    "Contesta a las siguientes preguntas: "
   ]
  },
  {
   "cell_type": "markdown",
   "metadata": {},
   "source": [
    "1️⃣ Crea dos variables nuevas: \n",
    "    - Una con el *string* en mayúsculas\n",
    "    - Otra con las letras en minúsculas\n",
    "\n",
    "2️⃣ Pon todas las primeras letras del *string* en mayúscula\n",
    "\n",
    "3️⃣ Separa el *string*  por los espacios y almacena el resultado en una lista llamanda `texto_lista`\n",
    "\n",
    "4️⃣ De la lista obtenida en el ejercicio anterior, selecciona solo los 5 primero elementos y almacena los resultados en una variable que se llame `texto_lista_corta` \n",
    "\n",
    "5️⃣ De la lista obtenida en el ejercicio 5. Vuelve a convertirlo en *string* \n",
    "\n",
    "6️⃣ Con el *string* obtenido en el paso anterior: \n",
    "\n",
    "    - Esta la palabra \"el\" en el *string* \n",
    "\n",
    "    - Reemplaza \"Hoy\" por nada\n",
    "\n",
    "    - El ejercicio anterior nos ha dejado espacios al inicio del string, eliminalos\n",
    "\n"
   ]
  },
  {
   "cell_type": "code",
   "execution_count": null,
   "metadata": {},
   "outputs": [],
   "source": [
    "string = \"\"\"Hoy estamos en una clase de repaso,\n",
    "el objetivo es intentar solucionar todas vuestras dudas, \n",
    "preguntad todo lo que queráis! \n",
    "\"\"\""
   ]
  },
  {
   "cell_type": "code",
   "execution_count": null,
   "metadata": {},
   "outputs": [],
   "source": []
  },
  {
   "cell_type": "code",
   "execution_count": null,
   "metadata": {},
   "outputs": [],
   "source": []
  },
  {
   "cell_type": "markdown",
   "metadata": {},
   "source": [
    "# Listas"
   ]
  },
  {
   "cell_type": "markdown",
   "metadata": {},
   "source": [
    "1️⃣ Definid dos listas de 8 elementos con números aleatorios del 1-20 que se llamen `lista1` y `lista2` \n",
    "\n",
    "2️⃣ Ordena la lista1 de menor a mayor, sobreescribiendo la lista\n",
    "\n",
    "3️⃣ Ordena la lista2 de mayor a menor, sobreescribiendo la lista\n",
    "\n",
    "4️⃣ Elimina el último elemento de la lista1\n",
    "\n",
    "5️⃣ Elimina el tercer elemento de la lista2\n",
    "\n",
    "6️⃣ Une las dos listas anteriores, obteniendo una lista de listas (llamadla lista_completa1). Sin sobreescibir ninguna de las listas\n",
    "\n",
    "7️⃣ Une las dos listas anteriores, obteniendo una lista de números (llamadla lista_completa2). Sin sobreescibir ninguna de las listas\n",
    "\n",
    "\n",
    "8️⃣ Cread dos listas nuevas con los números que queráis. Une las dos listas anteriores, obteniendo una lista de listas. EL resultado debe ser una lista de listas\n",
    "\n",
    "9️⃣ Cread dos listas nuevas con los números que queráis. Une las dos listas anteriores, obteniendo una lista con numeros.\n",
    "\n",
    "1️⃣0️⃣ Dada la siguiente lista: \n",
    "\n",
    "```python\n",
    "\n",
    "informacion = [\"Adalab\", [3,4,5,89,12,55,67,19] , \"comida\", {\"saludo\": \"buenos dias\", \"dias\": 4, \"gente\": [\"Laura\", \"Lorena\"]}, 345, [\"Almudena\", \"Lorena\", \"Maria\", \"Monica\", \"Sonia\"]]\n",
    "```\n",
    "\n",
    "\n",
    "- Accede al saludo del diccionario\n",
    "\n",
    "- Accede a todos los elementos que no sean diccionarios o listas\n",
    "\n",
    "- Accede a todos los elementos que  sean diccionarios o listas\n",
    "\n",
    "- Basándose en el resultado del ejercicio anterior, extrae el valor de \"Maria\"\n",
    "\n",
    "- Cual es el índice de \"Laura\" dentro del diccionario\n",
    "\n",
    "\n",
    "1️⃣1️⃣ Usando la lista anterior, añade el siguiente diccionario en primera posición. \n",
    "\n",
    "```python\n",
    "nuevo_diccionario = {\"comida\": [\"brocoli\", \"chorizo\"], \"precios\" :[1.35, 23]}\n",
    "```\n",
    "\n",
    "\n",
    "1️⃣2️⃣ Ordena la siguiente lista sin sobreescribirla\n",
    "\n",
    "```python\n",
    "lista_numeros = [3,6,23,9,2,77,14]\n",
    "```"
   ]
  },
  {
   "cell_type": "code",
   "execution_count": null,
   "metadata": {},
   "outputs": [],
   "source": []
  },
  {
   "cell_type": "code",
   "execution_count": null,
   "metadata": {},
   "outputs": [],
   "source": []
  },
  {
   "cell_type": "markdown",
   "metadata": {},
   "source": [
    "# Diccionarios\n",
    "\n",
    "Dado el siguiente diccionario: \n",
    "\n",
    "```python\n",
    "diccionario = {'nombre' : 'Laura', \n",
    "                'edad' : 22, \n",
    "                'cursos': ['Python','Django','JavaScript'] }\n",
    "\n",
    "```\n",
    "\n",
    "Contestad a las siguientes preguntas: \n",
    "\n",
    "1️⃣ ¿Cuáles son las *keys* del diccionario?\n",
    "\n",
    "2️⃣ ¿Cuáles son los *values* del diccionario?\n",
    "\n",
    "3️⃣ ¿Cuáles son los tipos de los datos de los *values*?\n",
    "\n",
    "4️⃣ Actualiza el *value* de la *key* nombre por \"Amanda\"\n",
    "\n",
    "5️⃣ Añadid una *key* nueva al diccionario que se llame \"experiencia\" cuyo value sea 2\n",
    "\n",
    "6️⃣ Cambia los values de todas las keys para añadir a la siguiente persona\n",
    "\n",
    "```python\n",
    "nombre: \"Aroa\"\n",
    "edad : 33\n",
    "cursos: [\"Python\", \"SQL\", \"C++\"]\n",
    "```\n",
    "7️⃣ Buscad la *key* \"estudios\". En caso de que no este, creadla con el valor [\"Bachillerato\", \"Universitario\"]\n",
    "\n",
    "\n",
    "8️⃣ Eliminad la *key* cursos del diccionario\n",
    "\n",
    "9️⃣ Eliminad la última *key*  del diccionario\n"
   ]
  },
  {
   "cell_type": "code",
   "execution_count": null,
   "metadata": {},
   "outputs": [],
   "source": []
  },
  {
   "cell_type": "code",
   "execution_count": null,
   "metadata": {},
   "outputs": [],
   "source": []
  }
 ],
 "metadata": {
  "kernelspec": {
   "display_name": "Python 3.10.5 64-bit (windows store)",
   "language": "python",
   "name": "python3"
  },
  "language_info": {
   "codemirror_mode": {
    "name": "ipython",
    "version": 3
   },
   "file_extension": ".py",
   "mimetype": "text/x-python",
   "name": "python",
   "nbconvert_exporter": "python",
   "pygments_lexer": "ipython3",
   "version": "3.10.5"
  },
  "orig_nbformat": 4,
  "vscode": {
   "interpreter": {
    "hash": "8560ba40f25f8debc3b21cfdc72602d7855270eb253b25380125fbd9b6cd3418"
   }
  }
 },
 "nbformat": 4,
 "nbformat_minor": 2
}
